{
 "cells": [
  {
   "cell_type": "markdown",
   "metadata": {},
   "source": [
    "# Avro Schema\n",
    "Kevin Davis, Walter Erquinigo, Guillermo Monge, Carlos Rodriguez & Alex Smith"
   ]
  },
  {
   "cell_type": "markdown",
   "metadata": {},
   "source": [
    "***\n",
    "### Resources\n",
    "- <a href=\"https://avro.apache.org/docs/1.8.1/gettingstartedpython.html\">Getting Started with Avro</a>\n",
    "- <a href=\"https://www-01.ibm.com/software/data/infosphere/hadoop/avro/\">IBM's Avro Overview</a>\n",
    "- <a href=\"https://dzone.com/articles/introduction-apache-avro\">Introduction to Avro</a>\n",
    "- <a href=\"http://www.treselle.com/blog/avro-with-python-part-2/\">Avro with Python Example</a>\n",
    "***"
   ]
  },
  {
   "cell_type": "markdown",
   "metadata": {},
   "source": [
    "### Define the schema for the Slack messages\n",
    "- user_id\n",
    "    - string or null value\n",
    "    - anonymized, equivalent to Slack RTM's 'user' field + anonymization function\n",
    "- record_type\n",
    "    - string or null value\n",
    "    - type of record, includes options such as reconnect_url, presence_change, message; should be message for our data\n",
    "- text\n",
    "    - string or null value\n",
    "    - text of the message sent by the user\n",
    "- channel\n",
    "    - string or null value\n",
    "    - channel in which the message was sent\n",
    "- timestamp\n",
    "    - float (required field)\n",
    "    - Unix timestamp of record assigned by slack api, equivalent to Slack RTM's 'ts' field"
   ]
  },
  {
   "cell_type": "code",
   "execution_count": 1,
   "metadata": {
    "collapsed": false
   },
   "outputs": [
    {
     "name": "stdout",
     "output_type": "stream",
     "text": [
      "Writing slackSchema.avsc\n"
     ]
    }
   ],
   "source": [
    "%%writefile slackSchema.avsc\n",
    "\n",
    "{\n",
    "\"namespace\": \"slack.avro\",\n",
    "\"type\": \"record\",\n",
    "\"name\": \"slack_schema\",\n",
    "\"fields\" : [\n",
    "    {\n",
    "        \"name\": \"user_id\",\n",
    "        \"type\": [\"string\", \"null\"],\n",
    "        \"doc\": \"User ID, anonymized, equivalent to Slack RTM's 'user' field + anonymization function\"\n",
    "    },\n",
    "    {\n",
    "        \"name\": \"record_type\",\n",
    "        \"type\": [\"string\",\"null\"],\n",
    "        \"doc\": \"type of record, includes options such as reconnect_url, presence_change, message; should be message for our data\"\n",
    "    }\n",
    "    {\n",
    "        \"name\": \"text\",\n",
    "        \"type\": [\"string\", \"null\"],\n",
    "        \"doc\": \"Text of message sent by user, equivalent to Slack RTM's 'text' field\"\n",
    "    },\n",
    "    {\n",
    "        \"name\": \"channel\",\n",
    "        \"type\": [\"string\", \"null\"],\n",
    "        \"doc\": \"The channel in which the message is being sent, equivalent to Slack RTM's 'channel' field\"\n",
    "    },\n",
    "    {\n",
    "        \"name\": \"timestamp\",\n",
    "        \"type\": \"float\",\n",
    "        \"doc\": \"Unix timestamp of record assigned by slack api, equivalent to Slack RTM's 'ts' field, required for each record\"}\n",
    " ],\n",
    "\"doc\": \"A Schema for storing Slack messages.\"\n",
    "}"
   ]
  },
  {
   "cell_type": "code",
   "execution_count": 5,
   "metadata": {
    "collapsed": false
   },
   "outputs": [
    {
     "name": "stdout",
     "output_type": "stream",
     "text": [
      "Overwriting avroSerializer.py\n"
     ]
    }
   ],
   "source": [
    "%%writefile avroSerializer.py\n",
    "\n",
    "# import our avro libraries\n",
    "import avro.schema\n",
    "from avro.datafile import DataFileReader, DataFileWriter\n",
    "from avro.io import DatumReader, DatumWriter\n",
    "\n",
    "# set the schema of interest\n",
    "schema = avro.schema.parse(open(\"slackSchema.avsc\", \"rb\").read())\n",
    "\n",
    "\n",
    "# a method to parse the data from Slack's RTM api and serialize it given a single message\n",
    "def avroSerialize(message):\n",
    "    \"\"\"takes as input a message loops through each part of the message, \n",
    "    and attempts to serialize it and return the new AVRO serialized message\"\"\"\n",
    "    \n",
    "    # set up a writer to serialize data\n",
    "    writer = DatumWriter(schema)\n",
    "    \n",
    "    # we set up a try loop because the RTM may return messages\n",
    "    # that are not actual messages that fit our Avro schema\n",
    "    try: \n",
    "            \n",
    "        # set up a new converted message\n",
    "        new_message = {}\n",
    "        new_message['user_id'] = message['user']\n",
    "        new_message['record_type'] = message['type']\n",
    "        new_message['text'] = message['text']\n",
    "        new_message['channel'] = message['channel']\n",
    "        new_message['time_stamp'] = message['ts']\n",
    "\n",
    "        # serialize the message and return it\n",
    "        return writer.write(new_message)\n",
    "    \n",
    "    # if we fail to write successfully, it's probably that we were\n",
    "    # attempting to write a message that we don't care about, like\n",
    "    # a status change. if this happens, we'll pass\n",
    "    except:\n",
    "        pass"
   ]
  },
  {
   "cell_type": "code",
   "execution_count": null,
   "metadata": {
    "collapsed": true
   },
   "outputs": [],
   "source": []
  }
 ],
 "metadata": {
  "kernelspec": {
   "display_name": "Python 2",
   "language": "python",
   "name": "python2"
  },
  "language_info": {
   "codemirror_mode": {
    "name": "ipython",
    "version": 2
   },
   "file_extension": ".py",
   "mimetype": "text/x-python",
   "name": "python",
   "nbconvert_exporter": "python",
   "pygments_lexer": "ipython2",
   "version": "2.7.12"
  }
 },
 "nbformat": 4,
 "nbformat_minor": 0
}
