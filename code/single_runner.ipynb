{
 "cells": [
  {
   "cell_type": "markdown",
   "metadata": {},
   "source": [
    "## Principal Runner Code"
   ]
  },
  {
   "cell_type": "code",
   "execution_count": 1,
   "metadata": {
    "collapsed": false
   },
   "outputs": [],
   "source": [
    "from nlp.text import extractor as xt\n",
    "from nlp.text.window import Window\n",
    "from nlp.models.similarity_calculation import SimilarTopicCalculator\n",
    "from nlp.models.message_classification import MessageClassifier\n",
    "\n",
    "# from nlp.geometry.repr import\n",
    "from nlp.geometry.dist import cosine\n",
    "from nlp.grammar.tokenizer import MessageTokenizer\n"
   ]
  },
  {
   "cell_type": "code",
   "execution_count": 2,
   "metadata": {
    "collapsed": false
   },
   "outputs": [],
   "source": [
    "# Initialize the extractor (JSON or Cassandra)\n",
    "casdb = xt.CassandraExtractor(cluster_ips=['54.175.189.47'],\n",
    "                              session_keyspace='test_keyspace',\n",
    "                              table_name='awaybot_messages')"
   ]
  },
  {
   "cell_type": "code",
   "execution_count": 3,
   "metadata": {
    "collapsed": false
   },
   "outputs": [],
   "source": [
    "# Generate message stream\n",
    "message_stream = casdb.get_messages(type_of_query='hour', channel='general')"
   ]
  },
  {
   "cell_type": "code",
   "execution_count": 4,
   "metadata": {
    "collapsed": true
   },
   "outputs": [],
   "source": [
    "# Initialize Window on which we'll store the topics\n",
    "topic_window = Window(window_size=10)\n",
    "\n",
    "# Initialize the similar topic calculator\n",
    "simtop = SimilarTopicCalculator(representation= lambda x: [0, 1, 0, 1],\n",
    "                                similarity=cosine,\n",
    "                                tokenizer=MessageClassifier)\n",
    "\n",
    "# Initialize the message classifier\n",
    "classifier = MessageClassifier(window=topic_window,\n",
    "                               similarity_threshold=0.8,\n",
    "                               similar_topic_calculator=simtop)"
   ]
  },
  {
   "cell_type": "code",
   "execution_count": null,
   "metadata": {
    "collapsed": true
   },
   "outputs": [],
   "source": [
    "# Classify the message as we obtain them from the stream\n",
    "classifier.classify(message_stream=message_stream)"
   ]
  },
  {
   "cell_type": "code",
   "execution_count": null,
   "metadata": {
    "collapsed": true
   },
   "outputs": [],
   "source": [
    "# Visualize the stream"
   ]
  }
 ],
 "metadata": {
  "kernelspec": {
   "display_name": "Python [conda env:nlp]",
   "language": "python",
   "name": "conda-env-nlp-py"
  },
  "language_info": {
   "codemirror_mode": {
    "name": "ipython",
    "version": 2
   },
   "file_extension": ".py",
   "mimetype": "text/x-python",
   "name": "python",
   "nbconvert_exporter": "python",
   "pygments_lexer": "ipython2",
   "version": "2.7.12"
  }
 },
 "nbformat": 4,
 "nbformat_minor": 1
}
