{
 "cells": [
  {
   "cell_type": "code",
   "execution_count": null,
   "metadata": {
    "collapsed": true
   },
   "outputs": [],
   "source": [
    "# Add the path to the slack-pack/code/ folder in order to be able to import nlp module\n",
    "import sys, os\n",
    "\n",
    "NLP_PATH = '/'.join(os.path.abspath('.').split('/')[:-1]) + '/'\n",
    "sys.path.append(NLP_PATH)"
   ]
  },
  {
   "cell_type": "code",
   "execution_count": 68,
   "metadata": {
    "collapsed": true
   },
   "outputs": [],
   "source": [
    "from collections import defaultdict\n",
    "from pprint import pprint\n",
    "\n",
    "from cassandra import ConsistencyLevel\n",
    "from cassandra.cluster import Cluster"
   ]
  },
  {
   "cell_type": "code",
   "execution_count": 187,
   "metadata": {
    "collapsed": false
   },
   "outputs": [
    {
     "data": {
      "text/plain": [
       "<module 'nlp.text.extractor' from 'nlp/text/extractor.py'>"
      ]
     },
     "execution_count": 187,
     "metadata": {},
     "output_type": "execute_result"
    }
   ],
   "source": [
    "from nlp.text import extractor as xt\n",
    "\n",
    "reload(xt)"
   ]
  },
  {
   "cell_type": "markdown",
   "metadata": {},
   "source": [
    "### Create a table with the same schema"
   ]
  },
  {
   "cell_type": "code",
   "execution_count": 102,
   "metadata": {
    "collapsed": false
   },
   "outputs": [
    {
     "name": "stdout",
     "output_type": "stream",
     "text": [
      "Created boondoggle_messages table!\n"
     ]
    }
   ],
   "source": [
    "q = \"\"\"\n",
    "CREATE TABLE IF NOT EXISTS boondoggle_messages (\n",
    "    uuid text,\n",
    "    message_text text,\n",
    "    ts text,\n",
    "    user text,\n",
    "    team text,\n",
    "    type text,\n",
    "    channel text,\n",
    "    PRIMARY KEY (uuid)\n",
    ")\n",
    "\"\"\"\n",
    "session.execute(q)\n",
    "print 'Created boondoggle_messages table!'"
   ]
  },
  {
   "cell_type": "code",
   "execution_count": 185,
   "metadata": {
    "collapsed": false
   },
   "outputs": [
    {
     "data": {
      "text/plain": [
       "<cassandra.cluster.ResultSet at 0x10fd8c850>"
      ]
     },
     "execution_count": 185,
     "metadata": {},
     "output_type": "execute_result"
    }
   ],
   "source": [
    "# This will delete all entries in the table\n",
    "# session.execute('TRUNCATE boondoggle_messages;')"
   ]
  },
  {
   "cell_type": "markdown",
   "metadata": {},
   "source": [
    "### Boondoggle data to the Cassandra cluster...\n"
   ]
  },
  {
   "cell_type": "code",
   "execution_count": 188,
   "metadata": {
    "collapsed": false
   },
   "outputs": [],
   "source": [
    "insert_q = \"\"\"\n",
    "INSERT INTO boondoggle_messages (uuid, message_text, ts, user, team, type, channel)\n",
    "VALUES ('%s', '%s', '%s', '%s', '%s', '%s', '%s')\n",
    "\"\"\"\n",
    "\n",
    "BASE_PATH = '/Users/will/Documents/Projects/local-slack-pack/data/Boondoggle_Sep_28_2016/{}/'\n",
    "\n",
    "def process_channel(CHANNEL):\n",
    "    print 'Processing {}: '.format(CHANNEL) \n",
    "\n",
    "    path_to_channel = BASE_PATH.format(CHANNEL.lower())\n",
    "    counter = 0\n",
    "    files_in_ch = !ls $path_to_channel\n",
    "\n",
    "    for f in files_in_ch:\n",
    "        filepath = path_to_channel + '/' + f\n",
    "\n",
    "        print '|',\n",
    "\n",
    "        ext = xt.JSONExtractor(file_name=filepath, logger='/Users/will/Documents/Projects/slack-pack/logs/extractor')\n",
    "        m_stream = ext.get_messages()\n",
    "\n",
    "        for m in m_stream:\n",
    "            session.execute(insert_q % (m.id, m.text.encode('ascii', 'ignore').replace(\"'\",''), m.timestamp,\n",
    "                                       m.author, 'boondoggle', 'message', CHANNEL) )\n",
    "\n",
    "            counter += 1\n",
    "\n",
    "            if counter % 20 == 0:\n",
    "                print '#',\n"
   ]
  },
  {
   "cell_type": "code",
   "execution_count": 1,
   "metadata": {
    "collapsed": false
   },
   "outputs": [
    {
     "data": {
      "text/plain": [
       "['bureaucrats',\n",
       " 'eurotrash',\n",
       " 'general',\n",
       " 'legislators',\n",
       " 'random',\n",
       " 'sdcmihlss',\n",
       " 'section5']"
      ]
     },
     "execution_count": 1,
     "metadata": {},
     "output_type": "execute_result"
    }
   ],
   "source": [
    "# Get all channels to upload...\n",
    "chnls = !ls /Users/will/Documents/Projects/local-slack-pack/data/Boondoggle_Sep_28_2016/\n",
    "all_ch = [ c for c in chnls if '.json' not in c ]\n",
    "all_ch"
   ]
  },
  {
   "cell_type": "code",
   "execution_count": 194,
   "metadata": {
    "collapsed": false
   },
   "outputs": [
    {
     "name": "stdout",
     "output_type": "stream",
     "text": [
      "This has been executed!\n"
     ]
    }
   ],
   "source": [
    "# FAILED_DICT = {}\n",
    "\n",
    "# for chn in all_ch:\n",
    "#     _f = process_channel(chn)\n",
    "#     FAILED_DICT[chn] = _f\n",
    "#     print ''\n",
    "\n",
    "print 'This has been executed!'"
   ]
  },
  {
   "cell_type": "code",
   "execution_count": null,
   "metadata": {
    "collapsed": true
   },
   "outputs": [],
   "source": []
  },
  {
   "cell_type": "markdown",
   "metadata": {},
   "source": [
    "### Boondoggle messages report"
   ]
  },
  {
   "cell_type": "code",
   "execution_count": 199,
   "metadata": {
    "collapsed": false
   },
   "outputs": [
    {
     "name": "stdout",
     "output_type": "stream",
     "text": [
      "Boondoggle has a total of #914 messages and #7 channels\n",
      "\n",
      "Channel size report:\n",
      "  sdcmihlss --> size: 79\n",
      "  legislators --> size: 12\n",
      "  bureaucrats --> size: 393\n",
      "  random --> size: 12\n",
      "  general --> size: 153\n",
      "  eurotrash --> size: 19\n",
      "  section5 --> size: 247\n"
     ]
    },
    {
     "name": "stderr",
     "output_type": "stream",
     "text": [
      "WARNING:cassandra.pool:Error attempting to reconnect to 127.0.0.1, scheduling retry in 600.0 seconds: [Errno 24] Tried connecting to [('127.0.0.1', 9042)]. Last error: Too many open files\n"
     ]
    }
   ],
   "source": [
    "_r = session.execute(\"SELECT * FROM boondoggle_messages\")\n",
    "\n",
    "channels_b = defaultdict(lambda: 0)\n",
    "\n",
    "for i, r in enumerate(_r):\n",
    "    channels_b[r.channel] += 1\n",
    "\n",
    "print( 'Boondoggle has a total of #{} messages and #{} channels'.format(i, len(channels_b)) )\n",
    "\n",
    "print( '\\nChannel size report:')\n",
    "for k, v in channels_b.iteritems():\n",
    "    print '  {} --> size: {:3>}'.format(k,v)\n"
   ]
  },
  {
   "cell_type": "code",
   "execution_count": null,
   "metadata": {
    "collapsed": true
   },
   "outputs": [],
   "source": []
  }
 ],
 "metadata": {
  "anaconda-cloud": {},
  "kernelspec": {
   "display_name": "Python [conda env:nlp]",
   "language": "python",
   "name": "conda-env-nlp-py"
  },
  "language_info": {
   "codemirror_mode": {
    "name": "ipython",
    "version": 2
   },
   "file_extension": ".py",
   "mimetype": "text/x-python",
   "name": "python",
   "nbconvert_exporter": "python",
   "pygments_lexer": "ipython2",
   "version": "2.7.12"
  }
 },
 "nbformat": 4,
 "nbformat_minor": 1
}
