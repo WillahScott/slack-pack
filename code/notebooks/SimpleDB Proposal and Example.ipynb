{
 "cells": [
  {
   "cell_type": "markdown",
   "metadata": {},
   "source": [
    "## Adding simple db to store lastest timestamp\n",
    "\n",
    "I evision the following simple db with one domain <br>\n",
    "Domain Name: awaybot <br>\n",
    "For each team, we'll create an item that is the team id (from slack api) <br>\n",
    "For each item, we'll have three attributes <br>\n",
    "1. Team name\n",
    "2. Channel name: the channel that we last read a message from\n",
    "    1. We'll set the replace value to true, as we'll update this for each message\n",
    "3. ts: The timestamp of the last message sent to kafka,\n",
    "    1. We'll set the replace value to true, as we'll update this for each message\n",
    "\n",
    "Whenever we query for the latest timestamp, we'll use `ConsistentRead=True` to ensure we don't get a stale timestamp\n",
    "\n",
    "\n",
    "#### System Reqs\n",
    "\n",
    "1. boto3\n",
    "    1. pip install boto3"
   ]
  },
  {
   "cell_type": "code",
   "execution_count": 23,
   "metadata": {
    "collapsed": false
   },
   "outputs": [],
   "source": [
    "import boto3\n",
    "# Connect to simpleDB\n",
    "client = boto3.client('sdb')\n",
    "# Create a test domain (table in RDMS terms)\n",
    "client.create_domain(\n",
    "    DomainName='test')\n",
    "\n",
    "# Create a test item and put attributes into it\n",
    "# Note that values are always strings\n",
    "test_item_name = 'U3G5603L'\n",
    "item_attrs = [\n",
    "    {'Name': 'Team', 'Value': 'U3G5603L'},\n",
    "    {'Name': 'Channel', 'Value': 'U5LMN360', 'Replace': True},\n",
    "    {'Name': 'ts', 'Value': '174435541.5', 'Replace': True}\n",
    "    ]\n",
    "response = client.put_attributes(\n",
    "    DomainName='test',\n",
    "    ItemName=test_item_name,\n",
    "    Attributes=item_attrs\n",
    ")"
   ]
  },
  {
   "cell_type": "code",
   "execution_count": 24,
   "metadata": {
    "collapsed": false
   },
   "outputs": [
    {
     "data": {
      "text/plain": [
       "[{u'Name': 'Channel', u'Value': 'U5LMN360'},\n",
       " {u'Name': 'ts', u'Value': '174435541.5'}]"
      ]
     },
     "execution_count": 24,
     "metadata": {},
     "output_type": "execute_result"
    }
   ],
   "source": [
    "# Read back the attributes using consistent read, so that we don't get stale reads\n",
    "response = client.get_attributes(\n",
    "    DomainName='test',\n",
    "    ItemName='U3G5603L',\n",
    "    AttributeNames=[\n",
    "        'ts',\n",
    "        'Channel'\n",
    "    ],\n",
    "    ConsistentRead=True\n",
    ")\n",
    "\n",
    "response['Attributes']"
   ]
  },
  {
   "cell_type": "code",
   "execution_count": 25,
   "metadata": {
    "collapsed": true
   },
   "outputs": [],
   "source": [
    "# Delete test domain omain\n",
    "response = client.delete_domain(\n",
    "    DomainName='string'\n",
    ")"
   ]
  }
 ],
 "metadata": {
  "kernelspec": {
   "display_name": "Python 2",
   "language": "python",
   "name": "python2"
  },
  "language_info": {
   "codemirror_mode": {
    "name": "ipython",
    "version": 2
   },
   "file_extension": ".py",
   "mimetype": "text/x-python",
   "name": "python",
   "nbconvert_exporter": "python",
   "pygments_lexer": "ipython2",
   "version": "2.7.12"
  }
 },
 "nbformat": 4,
 "nbformat_minor": 1
}
