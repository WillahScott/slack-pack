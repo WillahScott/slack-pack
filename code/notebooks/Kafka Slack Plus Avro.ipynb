{
 "cells": [
  {
   "cell_type": "markdown",
   "metadata": {},
   "source": [
    "## Access Slack History + RTM API with graceful(ish) recovery"
   ]
  },
  {
   "cell_type": "markdown",
   "metadata": {},
   "source": [
    "### Define schema using avro\n",
    "\n",
    "* If you don't have Avro, follow along https://avro.apache.org/docs/1.8.1/gettingstartedpython.html to install\n"
   ]
  },
  {
   "cell_type": "code",
   "execution_count": 32,
   "metadata": {
    "collapsed": false
   },
   "outputs": [
    {
     "name": "stdout",
     "output_type": "stream",
     "text": [
      "Overwriting slack.avsc\n"
     ]
    }
   ],
   "source": [
    "%%writefile slack.avsc\n",
    "{\n",
    "\"namespace\": \"slack_kafka.avro\",\n",
    "\"type\": \"record\",\n",
    "\"name\": \"slack_message_schema\",\n",
    "\"fields\" : [\n",
    "    {\n",
    "        \"name\": \"user_id\",\n",
    "        \"type\": [\"string\", \"null\"],\n",
    "        \"doc\": \"Code given by slack api for username\"\n",
    "    },\n",
    "    {\n",
    "        \"name\": \"text\",\n",
    "        \"type\": [\"string\", \"null\"],\n",
    "        \"doc\": \"The text of the message\"\n",
    "    },\n",
    "    {\n",
    "        \"name\": \"channel\",\n",
    "        \"type\": [\"string\", \"null\"],\n",
    "        \"doc\": \"The code given by slack api for channel\"\n",
    "    },\n",
    "    {\n",
    "        \"name\": \"timestamp\",\n",
    "        \"type\": \"float\",\n",
    "        \"doc\": \"Unix timestamp of record assigned by slack api\"}\n",
    " ],\n",
    "\"doc\": \"A Schema for storing Slack messages.\"\n",
    "}"
   ]
  },
  {
   "cell_type": "code",
   "execution_count": 43,
   "metadata": {
    "collapsed": false
   },
   "outputs": [
    {
     "name": "stdout",
     "output_type": "stream",
     "text": [
      "Overwriting SlackKafka.py\n"
     ]
    }
   ],
   "source": [
    "%%writefile SlackKafka.py\n",
    "from slackclient import SlackClient\n",
    "from kafka import KafkaClient, KafkaConsumer, KafkaProducer\n",
    "import threading, logging, time\n",
    "import avro.schema\n",
    "import avro.io\n",
    "import io\n",
    "import sqlite3\n",
    "import os\n",
    "\n",
    "'''The goal of this script is to define a simple \n",
    "proceedure that will determine if the topic\n",
    "already exists. If it does, it pulls the \n",
    "latest message timestamp from the sqlite \n",
    "database and queries the slack channel history\n",
    "for messages sent since that time.'''\n",
    "\n",
    "def updateTimestamp(db, team_id, ts):\n",
    "    '''Function to update the value of the\n",
    "    timestamp of the last processed message'''\n",
    "    if not os.path.exists(db):\n",
    "        conn = sqlite3.connect(db)\n",
    "        c = conn.cursor()\n",
    "        c.execute('CREATE TABLE timestamps (team_id TEXT, ts FLOAT);')\n",
    "        conn.commit()\n",
    "        conn.close()\n",
    "    conn = sqlite3.connect(db)\n",
    "    c = conn.cursor()\n",
    "    c.execute('DELETE FROM timestamps WHERE team_id = ?', (team_id,))\n",
    "    c.execute('INSERT INTO timestamps VALUES (?, ?)', (team_id, ts))\n",
    "    conn.commit()\n",
    "    conn.close()\n",
    "    return\n",
    "\n",
    "def findMaxTimestamp(db, team_id):\n",
    "    conn = sqlite3.connect(db)\n",
    "    c = conn.cursor()\n",
    "    c.execute('SELECT MAX(ts) from timestamps where team_id = ?', (team_id,))\n",
    "    max_ts = float(c.fetchall()[0][0])\n",
    "    conn.close()\n",
    "    return max_ts\n",
    "\n",
    "# Connect to Slack Client\n",
    "token_file = open('token.txt', 'r')\n",
    "token = [line.strip() for line in token_file.readlines()][0]\n",
    "token_file.close()\n",
    "sc = SlackClient(token)\n",
    "\n",
    "# Get the team ID\n",
    "team_id = sc.api_call('team.info')['team']['id']\n",
    "\n",
    "#Setup a kafka producer\n",
    "producer = KafkaProducer(bootstrap_servers='localhost:9092')\n",
    "\n",
    "#Setup avro\n",
    "schema = avro.schema.parse(open(\"slack.avsc\", \"rb\").read())\n",
    "writer = avro.io.DatumWriter(schema)\n",
    "bytes_writer = io.BytesIO()\n",
    "encoder = avro.io.BinaryEncoder(bytes_writer)\n",
    "\n",
    "# Check if a topic already exists with that team ID\n",
    "kafka = KafkaClient('localhost:9092')\n",
    "server_topics = kafka.topic_partitions\n",
    "if server_topics:\n",
    "    topics = server_topics.keys()\n",
    "else:\n",
    "    topics = []\n",
    "# If it does, find messages that have been sent since\n",
    "# The last time a message was processed\n",
    "if team_id in topics:\n",
    "    print('Topic Already Exists')\n",
    "    max_ts = findMaxTimestamp('timestamps.sqlite', team_id)\n",
    "    print(\"Querying slack channel history for missed messages\")\n",
    "    channels = [channel_dict['id'] for channel_dict in sc.api_call(\"channels.list\")['channels']]\n",
    "    c = 0\n",
    "    for channel in channels:\n",
    "        channel_history = sc.api_call(\"channels.history\", channel=channel, count=\"100000\")\n",
    "        for message_dict in channel_history['messages']:\n",
    "            if 'user' in message_dict:\n",
    "                if float(message_dict['ts']) > max_ts:\n",
    "                    message = {}\n",
    "                    message['user_id'] = message_dict['user']\n",
    "                    message['text'] = message_dict['text']\n",
    "                    message['channel'] = channel\n",
    "                    message['timestamp'] = float(message_dict['ts'])\n",
    "                    writer.write(message, encoder)\n",
    "                    raw_bytes = bytes_writer.getvalue()\n",
    "                    producer.send(team_id, raw_bytes)\n",
    "                    c += 1\n",
    "    print(\"Sent {} missing messages to kafka\".format(c))\n",
    "# If it doesn't, create topic and process all of the history\n",
    "else:\n",
    "    c = 0\n",
    "    print(\"Creating new topic for team {}\".format(team_id))\n",
    "    channels = [channel_dict['id'] for channel_dict in sc.api_call(\"channels.list\")['channels']]\n",
    "    for channel in channels:\n",
    "        channel_history = sc.api_call(\"channels.history\", channel=channel, count=\"100000\")\n",
    "        for message_dict in channel_history['messages']:\n",
    "            if 'user' in message_dict:\n",
    "                message = {}\n",
    "                message['user_id'] = message_dict['user']\n",
    "                message['text'] = message_dict['text']\n",
    "                message['channel'] = channel\n",
    "                message['timestamp'] = float(message_dict['ts'])\n",
    "                writer.write(message, encoder)\n",
    "                raw_bytes = bytes_writer.getvalue()\n",
    "                producer.send(team_id, raw_bytes)\n",
    "                c += 1\n",
    "    print(\"Sent {} historical messages to Kafka\".format(c))\n",
    "\n",
    "# Connect to real time messaing API and listen for messages\n",
    "# Update timestamp after processing message\n",
    "c = 0\n",
    "print(\"Connecting to the real time messaging API\")\n",
    "if sc.rtm_connect():\n",
    "    while True:\n",
    "        latest = sc.rtm_read()\n",
    "        if latest:\n",
    "            if 'text' in latest[0]:\n",
    "                message = {}\n",
    "                message['user_id'] = latest[0]['user']\n",
    "                message['text'] = latest[0]['text']\n",
    "                message['channel'] = latest[0]['channel']\n",
    "                message['timestamp'] = float(latest[0]['ts'])\n",
    "                writer.write(message, encoder)\n",
    "                raw_bytes = bytes_writer.getvalue()\n",
    "                producer.send(team_id, raw_bytes)\n",
    "                updateTimestamp('timestamps.sqlite', team_id, message['timestamp'])\n",
    "                c += 1\n",
    "                print('Sent {} messages'.format(c))\n",
    "                \n",
    "        time.sleep(5)"
   ]
  },
  {
   "cell_type": "code",
   "execution_count": 40,
   "metadata": {
    "collapsed": false
   },
   "outputs": [
    {
     "name": "stdout",
     "output_type": "stream",
     "text": [
      "Creating new topic for team T2BT8MVE3\n",
      "Sent 553 historical messages to Kafka\n",
      "Connecting to the real time messaging API\n",
      "Sent 1 messages\n",
      "Sent 2 messages\n",
      "^C\n",
      "Traceback (most recent call last):\n",
      "  File \"SlackKafka.py\", line 124, in <module>\n",
      "    time.sleep(5)\n",
      "KeyboardInterrupt\n"
     ]
    }
   ],
   "source": [
    "!python SlackKafka.py"
   ]
  },
  {
   "cell_type": "code",
   "execution_count": 41,
   "metadata": {
    "collapsed": false
   },
   "outputs": [
    {
     "name": "stdout",
     "output_type": "stream",
     "text": [
      "[(u'T2BT8MVE3', 1475701368.000003)]\n"
     ]
    }
   ],
   "source": [
    "conn = sqlite3.connect('timestamps.sqlite')\n",
    "c = conn.cursor()\n",
    "c.execute('Select * FROM timestamps')\n",
    "print(c.fetchall())\n",
    "conn.close()"
   ]
  },
  {
   "cell_type": "code",
   "execution_count": 42,
   "metadata": {
    "collapsed": false
   },
   "outputs": [
    {
     "name": "stdout",
     "output_type": "stream",
     "text": [
      "Topic Already Exists\n",
      "Querying slack channel history for missed messages\n",
      "Sent 1 missing messages to kafka\n",
      "Connecting to the real time messaging API\n",
      "Sent 1 messages\n",
      "Sent 2 messages\n",
      "^C\n",
      "Traceback (most recent call last):\n",
      "  File \"SlackKafka.py\", line 124, in <module>\n",
      "    time.sleep(5)\n",
      "KeyboardInterrupt\n"
     ]
    }
   ],
   "source": [
    "!python SlackKafka.py"
   ]
  }
 ],
 "metadata": {
  "kernelspec": {
   "display_name": "Python 2",
   "language": "python",
   "name": "python2"
  },
  "language_info": {
   "codemirror_mode": {
    "name": "ipython",
    "version": 2
   },
   "file_extension": ".py",
   "mimetype": "text/x-python",
   "name": "python",
   "nbconvert_exporter": "python",
   "pygments_lexer": "ipython2",
   "version": "2.7.12"
  }
 },
 "nbformat": 4,
 "nbformat_minor": 1
}
