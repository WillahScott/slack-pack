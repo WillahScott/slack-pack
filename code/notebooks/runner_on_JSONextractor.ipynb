{
 "cells": [
  {
   "cell_type": "code",
   "execution_count": null,
   "metadata": {
    "collapsed": true
   },
   "outputs": [],
   "source": [
    "# Add the path to the slack-pack/code/ folder in order to be able to import nlp module\n",
    "import sys, os\n",
    "\n",
    "NLP_PATH = '/'.join(os.path.abspath('.').split('/')[:-1]) + '/'\n",
    "sys.path.append(NLP_PATH)"
   ]
  },
  {
   "cell_type": "markdown",
   "metadata": {},
   "source": [
    "## Extraction of messages from JSONExtractor"
   ]
  },
  {
   "cell_type": "code",
   "execution_count": 1,
   "metadata": {
    "collapsed": false
   },
   "outputs": [],
   "source": [
    "from nlp.text import extractor as xt\n",
    "from nlp.text.message import Message"
   ]
  },
  {
   "cell_type": "code",
   "execution_count": 2,
   "metadata": {
    "collapsed": true
   },
   "outputs": [],
   "source": [
    "PATH_TO_DATA = 'nlp/data/general/2016-05-06.json'\n",
    "\n",
    "dataxt = xt.JSONExtractor(PATH_TO_DATA)"
   ]
  },
  {
   "cell_type": "code",
   "execution_count": 3,
   "metadata": {
    "collapsed": false
   },
   "outputs": [],
   "source": [
    "messages = dataxt.get_messages()"
   ]
  },
  {
   "cell_type": "code",
   "execution_count": 4,
   "metadata": {
    "collapsed": false
   },
   "outputs": [
    {
     "name": "stdout",
     "output_type": "stream",
     "text": [
      "<@U16RLTH3N|alex> has joined the channel\n",
      "\n",
      "<@U16RY7PR6|cdcrabtree> has joined the channel\n",
      "\n",
      "In addition, because none of this is associated with our university addresses, we are not subject to FOIAs, so we can say dumb things without the threat of being taken down for it.\n",
      "\n",
      "<@U16S1V6LX|kristineeck> has joined the channel\n",
      "\n",
      "yeo!\n",
      "\n",
      "we can share the codes `inline = rnorm(1,1,1)` and in blocks ```\n",
      "blocks = rnorm(100, 1, 1)\n",
      "```\n",
      "\n",
      "And, things stay in places that make sense.\n",
      "\n",
      "There are presently two additional channels to keep things straight. <#C16S81202> and <#C16RM7TD2> “subscribe\" to those if you haven’t.\n",
      "\n",
      "Also, the phone and desktop clients are nice.\n",
      "\n",
      "<@U16S9N0LE|nvisal> has joined the channel\n",
      "\n",
      "<@U16RAECF5|micah.gr> has joined the channel\n",
      "\n",
      "sup <@U16S9N0LE>\n",
      "\n",
      "sup <@U16RAECF5>\n",
      "\n"
     ]
    }
   ],
   "source": [
    "for msg in messages:\n",
    "    print msg.text\n",
    "    print ''"
   ]
  },
  {
   "cell_type": "code",
   "execution_count": null,
   "metadata": {
    "collapsed": true
   },
   "outputs": [],
   "source": []
  }
 ],
 "metadata": {
  "anaconda-cloud": {},
  "kernelspec": {
   "display_name": "Python [conda env:nlp]",
   "language": "python",
   "name": "conda-env-nlp-py"
  },
  "language_info": {
   "codemirror_mode": {
    "name": "ipython",
    "version": 2
   },
   "file_extension": ".py",
   "mimetype": "text/x-python",
   "name": "python",
   "nbconvert_exporter": "python",
   "pygments_lexer": "ipython2",
   "version": "2.7.12"
  }
 },
 "nbformat": 4,
 "nbformat_minor": 1
}
