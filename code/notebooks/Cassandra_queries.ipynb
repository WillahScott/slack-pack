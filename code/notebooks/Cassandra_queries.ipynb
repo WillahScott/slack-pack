{
 "cells": [
  {
   "cell_type": "markdown",
   "metadata": {},
   "source": [
    "## Cassandra Querying v2.0\n",
    "\n",
    "Exploring data extraction from Cassandra"
   ]
  },
  {
   "cell_type": "code",
   "execution_count": 17,
   "metadata": {
    "collapsed": true
   },
   "outputs": [],
   "source": [
    "from cassandra import ConsistencyLevel\n",
    "from cassandra.cluster import Cluster\n",
    "# from cassandra.query import SimpleStatement"
   ]
  },
  {
   "cell_type": "code",
   "execution_count": 18,
   "metadata": {
    "collapsed": true
   },
   "outputs": [],
   "source": [
    "# Initialize Cassandra Session\n",
    "cluster = Cluster(['54.175.189.47'])\n",
    "session = cluster.connect('test_keyspace')"
   ]
  },
  {
   "cell_type": "markdown",
   "metadata": {
    "collapsed": true
   },
   "source": [
    "### Channel names\n",
    "**We are using some sort of channel ID!!**"
   ]
  },
  {
   "cell_type": "code",
   "execution_count": 25,
   "metadata": {
    "collapsed": false
   },
   "outputs": [
    {
     "name": "stdout",
     "output_type": "stream",
     "text": [
      "CHANNELS:  set([u'C2CUMH2BA', u'C2BSVGJQ4', u'C2CNEMD0S', u'C2G7V1D0S', u'C2DFNQ5PA'])\n"
     ]
    }
   ],
   "source": [
    "# Get the channels\n",
    "channels = set()\n",
    "_c = session.execute(\"SELECT channel FROM awaybot_messages\")\n",
    "for c in _c:\n",
    "    channels.add(c.channel)\n",
    "\n",
    "print 'CHANNELS: ', channels"
   ]
  },
  {
   "cell_type": "markdown",
   "metadata": {
    "collapsed": true
   },
   "source": [
    "### Limit\n",
    "We can use `LIMIT` no problem, but we'll need to order the table in inverse order for that... However, then upon processing the messages we will have to re-reverse the stream (maybe not the best idea then!)"
   ]
  },
  {
   "cell_type": "code",
   "execution_count": 52,
   "metadata": {
    "collapsed": false
   },
   "outputs": [
    {
     "name": "stdout",
     "output_type": "stream",
     "text": [
      "yeah, logging and debugging in general seem to be under-appreciated in Python \n",
      "\n",
      "still \n",
      "\n",
      "what branch is it in now? \n",
      "\n",
      "YES! \n",
      "\n",
      "We said that we would post times we were available this weekend. I have a friend's wedding this weekend so most of my time will be spent in car driving to and from North Carolina. Sorry for being so high maintenance! The times I'm available are: Saturday before 10AM and Sunday after 4PM.  \n",
      "\n"
     ]
    }
   ],
   "source": [
    "qr = \"\"\"\n",
    "SELECT * FROM awaybot_messages  LIMIT 5;\n",
    "\"\"\"\n",
    "\n",
    "_rows = session.execute(qr)\n",
    "for r in _rows:\n",
    "    print r.message_text, '\\n'"
   ]
  },
  {
   "cell_type": "markdown",
   "metadata": {
    "collapsed": true
   },
   "source": [
    "### Filtering\n",
    "So filtering with the `WHERE` works... bot only for keys or partition keys... Still not too sure how this works, but we need at the very least Channel (and some sort of time in here as well...)"
   ]
  },
  {
   "cell_type": "code",
   "execution_count": 47,
   "metadata": {
    "collapsed": false
   },
   "outputs": [
    {
     "name": "stdout",
     "output_type": "stream",
     "text": [
      "Row(uuid=u'322d5b30-aea6-11e6-97d5-08002749f6f8', channel=u'C2CUMH2BA', message_text=u'yeah, logging and debugging in general seem to be under-appreciated in Python', team=u'T2BT8MVE3', ts=u'1479577733.000014', type=u'message', user=u'U2C9M9GP5')\n",
      "Row(uuid=u'db413598-aea5-11e6-97d5-08002749f6f8', channel=u'C2G7V1D0S', message_text=u'what branch is it in now?', team=u'T2BT8MVE3', ts=u'1479069903.000011', type=u'message', user=u'U2C5M1L6L')\n"
     ]
    }
   ],
   "source": [
    "qr = \"\"\"\n",
    "SELECT * FROM awaybot_messages\n",
    "    WHERE uuid IN\n",
    "    ('322d5b30-aea6-11e6-97d5-08002749f6f8','db413598-aea5-11e6-97d5-08002749f6f8') ;\n",
    "\"\"\"\n",
    "\n",
    "_rows = session.execute(qr)\n",
    "for r in _rows:\n",
    "    print r"
   ]
  },
  {
   "cell_type": "code",
   "execution_count": null,
   "metadata": {
    "collapsed": true
   },
   "outputs": [],
   "source": []
  },
  {
   "cell_type": "code",
   "execution_count": null,
   "metadata": {
    "collapsed": true
   },
   "outputs": [],
   "source": []
  }
 ],
 "metadata": {
  "anaconda-cloud": {},
  "kernelspec": {
   "display_name": "Python [conda env:nlp]",
   "language": "python",
   "name": "conda-env-nlp-py"
  },
  "language_info": {
   "codemirror_mode": {
    "name": "ipython",
    "version": 2
   },
   "file_extension": ".py",
   "mimetype": "text/x-python",
   "name": "python",
   "nbconvert_exporter": "python",
   "pygments_lexer": "ipython2",
   "version": "2.7.12"
  }
 },
 "nbformat": 4,
 "nbformat_minor": 1
}
