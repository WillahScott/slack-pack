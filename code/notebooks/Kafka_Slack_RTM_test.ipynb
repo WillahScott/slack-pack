{
 "cells": [
  {
   "cell_type": "markdown",
   "metadata": {},
   "source": [
    "## Pull from Slack RTM API and write to Kafka"
   ]
  },
  {
   "cell_type": "code",
   "execution_count": 7,
   "metadata": {
    "collapsed": false,
    "scrolled": true
   },
   "outputs": [
    {
     "name": "stdout",
     "output_type": "stream",
     "text": [
      "Channel name: architecture\n",
      "Channel id: C2G7V1D0S\n",
      "\n",
      "\n",
      "Channel name: bot-sandbox\n",
      "Channel id: C2CNEMD0S\n",
      "\n",
      "\n",
      "Channel name: data\n",
      "Channel id: C2H1W0R8V\n",
      "\n",
      "\n",
      "Channel name: general\n",
      "Channel id: C2BSVGJQ4\n",
      "\n",
      "\n",
      "Channel name: github-repo\n",
      "Channel id: C2CRHAP61\n",
      "\n",
      "\n",
      "Channel name: name-selection\n",
      "Channel id: C2CRJL0MP\n",
      "\n",
      "\n",
      "Channel name: next-meeting\n",
      "Channel id: C2DFNQ5PA\n",
      "\n",
      "\n",
      "Channel name: nlp-methodology\n",
      "Channel id: C2CV4G41G\n",
      "\n",
      "\n",
      "Channel name: random\n",
      "Channel id: C2BSVGJSY\n",
      "\n",
      "\n",
      "Channel name: tech-stuff\n",
      "Channel id: C2CUMH2BA\n",
      "\n",
      "\n"
     ]
    }
   ],
   "source": [
    "import os\n",
    "import time\n",
    "from slackclient import SlackClient\n",
    "\n",
    "# add your token and start up the SlackClient\n",
    "# token can be obtained here: https://api.slack.com/docs/oauth-test-tokens\n",
    "token = 'TOKEN!!!'\n",
    "sc = SlackClient(token)\n",
    "\n",
    "# print out all the channels in the given team for the Slack token\n",
    "channels = []\n",
    "for channel_dictionary in sc.api_call(\"channels.list\")['channels']:\n",
    "    channels.append(channel_dictionary)\n",
    "\n",
    "# for each channel, print the channel id and the channel name\n",
    "for channel in channels:\n",
    "    print \"Channel name:\", channel['name']\n",
    "    print \"Channel id:\", channel['id']\n",
    "    print \"\\n\""
   ]
  },
  {
   "cell_type": "code",
   "execution_count": 8,
   "metadata": {
    "collapsed": false
   },
   "outputs": [
    {
     "name": "stdout",
     "output_type": "stream",
     "text": [
      "Writing pullSlack.py\n"
     ]
    }
   ],
   "source": [
    "%%writefile pullSlack.py\n",
    "#!/usr/bin/python\n",
    "\n",
    "# import the Kafka consumers and producers \n",
    "# like Kevan did in his example\n",
    "import threading, logging, time\n",
    "from kafka import KafkaConsumer, KafkaProducer\n",
    "\n",
    "# create a Kafka producer, something that writes to Kafka\n",
    "class Producer(threading.Thread):\n",
    "    daemon = True\n",
    "\n",
    "    # the run function that will actually be the method that \n",
    "    # writes to Kafka\n",
    "    def run(self, topic, writing):\n",
    "        producer = KafkaProducer(bootstrap_servers='localhost:9092')\n",
    "        \n",
    "        # send the topic and writing that was sent\n",
    "        producer.send(topic, writing)\n",
    "\n",
    "\n",
    "def main():\n",
    "            \n",
    "    # start the producer\n",
    "    Producer.start()\n",
    "\n",
    "    # check every second for new messages\n",
    "    if sc.rtm_connect():\n",
    "        while True:\n",
    "            new = sc.rtm_read()\n",
    "            time.sleep(1)\n",
    "\n",
    "            # if we actually got a message\n",
    "            if len(new) > 0:\n",
    "\n",
    "                # go through each message and \n",
    "                # grab the channel and the message\n",
    "                for message in new:\n",
    "                    \n",
    "                    # try to grab the message and the\n",
    "                    # channel and also try to write\n",
    "                    # it to Kafka\n",
    "                    try: \n",
    "                        text = message['text']\n",
    "                        channel = message['channel']\n",
    "                        Producer.run(channel,text)\n",
    "                    \n",
    "                    # we'll pass if that doesn't work\n",
    "                    # because the information we got was\n",
    "                    # likely not a message but just a \n",
    "                    # status update, e.g. someone going\n",
    "                    # from away to active status\n",
    "                    except:\n",
    "                        pass\n",
    "main()"
   ]
  },
  {
   "cell_type": "code",
   "execution_count": null,
   "metadata": {
    "collapsed": true
   },
   "outputs": [],
   "source": []
  }
 ],
 "metadata": {
  "kernelspec": {
   "display_name": "Python 2",
   "language": "python",
   "name": "python2"
  },
  "language_info": {
   "codemirror_mode": {
    "name": "ipython",
    "version": 2
   },
   "file_extension": ".py",
   "mimetype": "text/x-python",
   "name": "python",
   "nbconvert_exporter": "python",
   "pygments_lexer": "ipython2",
   "version": "2.7.12"
  }
 },
 "nbformat": 4,
 "nbformat_minor": 0
}
