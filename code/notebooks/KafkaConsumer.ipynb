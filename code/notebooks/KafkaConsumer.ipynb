{
 "cells": [
  {
   "cell_type": "code",
   "execution_count": null,
   "metadata": {
    "collapsed": false,
    "scrolled": true
   },
   "outputs": [
    {
     "name": "stdout",
     "output_type": "stream",
     "text": [
      "100\n",
      "200\n",
      "300\n",
      "400\n",
      "500\n",
      "600\n",
      "700\n",
      "800\n",
      "900\n",
      "1000\n",
      "1100\n",
      "1200\n"
     ]
    }
   ],
   "source": [
    "from kafka import KafkaClient, KafkaConsumer\n",
    "from cassandra import ConsistencyLevel\n",
    "from cassandra.cluster import Cluster\n",
    "from cassandra.query import SimpleStatement\n",
    "import threading, logging, time\n",
    "import avro.schema\n",
    "import avro.io\n",
    "import io\n",
    "\n",
    "KEYSPACE = \"slack_pack\"\n",
    "\n",
    "# Connect to the default (localhost) cluster\n",
    "cluster = Cluster()\n",
    "session = cluster.connect()\n",
    "\n",
    "# Create keyspace\n",
    "session.execute(\"\"\"\n",
    "        CREATE KEYSPACE IF NOT EXISTS %s\n",
    "        WITH replication = { 'class': 'SimpleStrategy', 'replication_factor': '2' }\n",
    "        \"\"\" % KEYSPACE)\n",
    "\n",
    "session.set_keyspace(KEYSPACE)\n",
    "\n",
    "# Create Table\n",
    "session.execute(\"\"\"\n",
    "        CREATE TABLE IF NOT EXISTS awaybot (\n",
    "            rec_id text,\n",
    "            user_id text,\n",
    "            message_text text,\n",
    "            channel_id text,\n",
    "            team_id text,\n",
    "            ts text,\n",
    "            PRIMARY KEY (rec_id)\n",
    "        )\n",
    "        \"\"\")\n",
    "\n",
    "# Write pre-prepared insert statement\n",
    "prepared = session.prepare(\"\"\"\n",
    "        INSERT INTO awaybot (rec_id, user_id, message_text,\n",
    "            channel_id, team_id, ts)\n",
    "        VALUES (?, ?, ?, ?, ?, ?)\n",
    "        \"\"\")\n",
    "\n",
    "# Create a kafka consumer\n",
    "consumer = KafkaConsumer('T2BT8MVE3')\n",
    "# Read in the avro schema\n",
    "schema = avro.schema.parse(open(\"slack.avsc\", \"rb\").read())\n",
    "\n",
    "\n",
    "c = 0\n",
    "# Consume messages\n",
    "for msg in consumer:\n",
    "    c += 1\n",
    "    if not c % 100:\n",
    "        print c\n",
    "    bytes_reader = io.BytesIO(msg.value)\n",
    "    decoder = avro.io.BinaryDecoder(bytes_reader)\n",
    "    reader = avro.io.DatumReader(schema)\n",
    "    message = reader.read(decoder)\n",
    "    # Insert each message into Cassandra\n",
    "    session.execute(\n",
    "        prepared, \n",
    "        (message['rec_id'], message['user_id'],\n",
    "         message['message_text'], message['channel_id'], \n",
    "         message['team_id'], message['ts']))\n"
   ]
  }
 ],
 "metadata": {
  "kernelspec": {
   "display_name": "Python 2",
   "language": "python",
   "name": "python2"
  },
  "language_info": {
   "codemirror_mode": {
    "name": "ipython",
    "version": 2
   },
   "file_extension": ".py",
   "mimetype": "text/x-python",
   "name": "python",
   "nbconvert_exporter": "python",
   "pygments_lexer": "ipython2",
   "version": "2.7.12"
  }
 },
 "nbformat": 4,
 "nbformat_minor": 1
}
