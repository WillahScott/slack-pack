{
 "cells": [
  {
   "cell_type": "markdown",
   "metadata": {},
   "source": [
    "## Simple kafka setup for the Slack API using Python\n",
    "\n",
    "### Prerequisits\n",
    "\n",
    "* Install kafka (http://kafka.apache.org/downloads.html)\n",
    "* Install kafka-python\n",
    "    * pip install kafka-python\n",
    "* Install slack-api for python\n",
    "    * pip install slackclient\n",
    "* Get a slack api token\n",
    "    * (https://api.slack.com/docs/oauth-test-tokens)\n",
    "* Start zookeeper-server (in kafka directory)\n",
    "    * ./bin/zookeeper-server-start.sh config/zookeeper.properties\n",
    "* Start kafka-server (in kafka directory)\n",
    "    * ./bin/kafka-server-start.sh config/server.properties"
   ]
  },
  {
   "cell_type": "code",
   "execution_count": null,
   "metadata": {
    "collapsed": false
   },
   "outputs": [],
   "source": [
    "# This is how you query the Slack team for all channels \n",
    "# TODO: See if DM channels are listed using different api call\n",
    "\n",
    "import os\n",
    "import time\n",
    "from slackclient import SlackClient\n",
    "\n",
    "token = 'your-token-here' \n",
    "\n",
    "\n",
    "channels = [channel_dict['id'] for channel_dict in sc.api_call(\"channels.list\")['channels']]\n",
    "print channels\n",
    "    "
   ]
  },
  {
   "cell_type": "code",
   "execution_count": null,
   "metadata": {
    "collapsed": false
   },
   "outputs": [],
   "source": [
    "%%writefile example.py\n",
    "#!/home/kevin/slackpstone/bin/python\n",
    "import threading, logging, time\n",
    "\n",
    "from kafka import KafkaConsumer, KafkaProducer\n",
    "\n",
    "# Replace the #! shebang with your env\n",
    "# This is a simple Kafka setup using python\n",
    "# On one thread we set up a producer and a topic called 'my-topic' and send two messages each second\n",
    "# Example from https://github.com/dpkp/kafka-python/blob/master/example.py\n",
    "\n",
    "# On another thread we set up a consumer and read the topic\n",
    "class Producer(threading.Thread):\n",
    "    daemon = True\n",
    "\n",
    "    def run(self):\n",
    "        producer = KafkaProducer(bootstrap_servers='localhost:9092')\n",
    "\n",
    "        while True:\n",
    "            producer.send('my-topic', b\"test\")\n",
    "            producer.send('my-topic', b\"\\xc2Hola, mundo!\")\n",
    "            time.sleep(1)\n",
    "\n",
    "\n",
    "class Consumer(threading.Thread):\n",
    "    daemon = True\n",
    "\n",
    "    def run(self):\n",
    "        consumer = KafkaConsumer(bootstrap_servers='localhost:9092',\n",
    "                                 auto_offset_reset='earliest')\n",
    "        consumer.subscribe(['my-topic'])\n",
    "\n",
    "        for message in consumer:\n",
    "            print (message)\n",
    "\n",
    "\n",
    "def main():\n",
    "    threads = [\n",
    "        Producer(),\n",
    "        Consumer()\n",
    "    ]\n",
    "\n",
    "    for t in threads:\n",
    "        t.start()\n",
    "\n",
    "    time.sleep(20)\n",
    "\n",
    "if __name__ == \"__main__\":\n",
    "    logging.basicConfig(\n",
    "        format='%(asctime)s.%(msecs)s:%(name)s:%(thread)d:%(levelname)s:%(process)d:%(message)s',\n",
    "        level=logging.INFO\n",
    "        )\n",
    "main()"
   ]
  },
  {
   "cell_type": "code",
   "execution_count": null,
   "metadata": {
    "collapsed": false,
    "scrolled": true
   },
   "outputs": [],
   "source": [
    "!python example.py"
   ]
  },
  {
   "cell_type": "code",
   "execution_count": null,
   "metadata": {
    "collapsed": false
   },
   "outputs": [],
   "source": [
    "# This is how you read from channel history\n",
    "# In this case we write to file\n",
    "\n",
    "output_example =  open('slackpstone-channel-output.txt', 'w')\n",
    "\n",
    "for channel in channels:\n",
    "    channel_history = sc.api_call(\"channels.history\", channel=channel, count=\"100000\")\n",
    "    for message_dict in channel_history['messages']:\n",
    "        if 'user' in message_dict:\n",
    "            output_example.write('{}\\t{}\\t{}\\n'.format(\n",
    "                message_dict['text'].replace('\\n','').encode('utf-8'),\n",
    "                    message_dict['user'], message_dict['ts']))\n",
    "output_example.close()\n",
    "\n",
    "# Example of the stuff we wrote to file\n",
    "c = 0\n",
    "with open('slackpstone-channel-output.txt', 'r') as f:\n",
    "    for line in f:\n",
    "        if c<10:\n",
    "            print line.strip().split('\\t')\n",
    "            c += 1\n",
    "        else:\n",
    "            break"
   ]
  },
  {
   "cell_type": "code",
   "execution_count": null,
   "metadata": {
    "collapsed": false
   },
   "outputs": [],
   "source": [
    "# This is how you get the team id from the slack api\n",
    "sc.api_call('team.info')['team']['id']"
   ]
  },
  {
   "cell_type": "code",
   "execution_count": null,
   "metadata": {
    "collapsed": false
   },
   "outputs": [],
   "source": [
    "%%writefile slack_example.py\n",
    "#!/home/kevin/slackpstone/bin/python\n",
    "\n",
    "# Integrating slack api and kafka\n",
    "from slackclient import SlackClient\n",
    "from kafka import KafkaConsumer, KafkaProducer\n",
    "import threading, logging, time\n",
    "\n",
    "producer = KafkaProducer(bootstrap_servers='localhost:9092')\n",
    "c = 0\n",
    "token = 'your-token-here'\n",
    "sc = SlackClient(token)\n",
    "team_id = sc.api_call('team.info')['team']['id']\n",
    "\n",
    "# First we go through all the history\n",
    "# I'm using the team_id as the topic name\n",
    "channels = [channel_dict['id'] for channel_dict in sc.api_call(\"channels.list\")['channels']]\n",
    "for channel in channels:\n",
    "    channel_history = sc.api_call(\"channels.history\", channel=channel, count=\"100000\")\n",
    "    for message_dict in channel_history['messages']:\n",
    "        if 'user' in message_dict:\n",
    "            message = '{}\\t{}\\t{}\\t{}\\n'.format(\n",
    "                message_dict['text'].replace('\\n','').encode('utf-8'),\n",
    "                channel, message_dict['user'], message_dict['ts'])\n",
    "            producer.send(team_id, message)\n",
    "            c += 1\n",
    "\n",
    "# Second, we set up a Real Time Messaging API connection and listen for text messages\n",
    "# TODO: Look into serialization with avro\n",
    "# TODO: Look at encoding issues\n",
    "# TODO: Iterate on message structure, what if any other messages we would like to send to kafka\n",
    "# TODO: Look at emoji, reactions, etc:\n",
    "if sc.rtm_connect():\n",
    "    while True:\n",
    "        latest = sc.rtm_read()\n",
    "        if latest:\n",
    "            if 'text' in latest[0]:\n",
    "                message = '{}\\t{}\\t{}\\t{}\\n'.format(\n",
    "                    latest[0]['text'].replace('\\n','').encode('utf-8'), \n",
    "                    latest[0]['channel'], latest[0]['user'],\n",
    "                    latest[0]['ts'])\n",
    "                producer.send(team_id, message)\n",
    "                c += 1\n",
    "                print 'Sent {} messages'.format(c)\n",
    "        time.sleep(5)"
   ]
  },
  {
   "cell_type": "code",
   "execution_count": null,
   "metadata": {
    "collapsed": false
   },
   "outputs": [],
   "source": [
    "!python slack_example.py"
   ]
  },
  {
   "cell_type": "markdown",
   "metadata": {},
   "source": [
    "## Looking Ahead\n",
    "\n",
    "* Deployment (Flask ap?)\n",
    "* Maybe using Flask + AWS Elastic Beanstalk? (http://docs.aws.amazon.com/elasticbeanstalk/latest/dg/create-deploy-python-flask.html)\n",
    "* Can we write a bot that you add to your channel that streamlines this process?\n",
    "* Can we use the same bot to serve our esul"
   ]
  }
 ],
 "metadata": {
  "kernelspec": {
   "display_name": "Python 2",
   "language": "python",
   "name": "python2"
  },
  "language_info": {
   "codemirror_mode": {
    "name": "ipython",
    "version": 2
   },
   "file_extension": ".py",
   "mimetype": "text/x-python",
   "name": "python",
   "nbconvert_exporter": "python",
   "pygments_lexer": "ipython2",
   "version": "2.7.12"
  }
 },
 "nbformat": 4,
 "nbformat_minor": 1
}
