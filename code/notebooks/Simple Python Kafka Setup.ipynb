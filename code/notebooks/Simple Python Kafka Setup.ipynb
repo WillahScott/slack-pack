{
 "cells": [
  {
   "cell_type": "code",
   "execution_count": null,
   "metadata": {
    "collapsed": true
   },
   "outputs": [],
   "source": [
    "#pip install slackclient\n",
    "#pip install kafka-python\n",
    "import os\n",
    "import time\n",
    "from slackclient import SlackClient\n",
    "\n",
    "token = 'Your token here' #(https://api.slack.com/docs/oauth-test-tokens)\n",
    "sc = SlackClient(token)\n",
    "\n",
    "\n",
    "channels = [channel_dict['id'] for channel_dict in sc.api_call(\"channels.list\")['channels']]\n",
    "print channels\n",
    "    "
   ]
  },
  {
   "cell_type": "code",
   "execution_count": null,
   "metadata": {
    "collapsed": false
   },
   "outputs": [],
   "source": [
    "%%writefile example.py\n",
    "#!/home/kevin/slackpstone/bin/python\n",
    "\n",
    "# Example from https://github.com/dpkp/kafka-python/blob/master/example.py\n",
    "import threading, logging, time\n",
    "\n",
    "from kafka import KafkaConsumer, KafkaProducer\n",
    "\n",
    "\n",
    "class Producer(threading.Thread):\n",
    "    daemon = True\n",
    "\n",
    "    def run(self):\n",
    "        producer = KafkaProducer(bootstrap_servers='localhost:9092')\n",
    "\n",
    "        while True:\n",
    "            producer.send('my-topic', b\"test\")\n",
    "            producer.send('my-topic', b\"\\xc2Hola, mundo!\")\n",
    "            time.sleep(1)\n",
    "\n",
    "\n",
    "class Consumer(threading.Thread):\n",
    "    daemon = True\n",
    "\n",
    "    def run(self):\n",
    "        consumer = KafkaConsumer(bootstrap_servers='localhost:9092',\n",
    "                                 auto_offset_reset='earliest')\n",
    "        consumer.subscribe(['my-topic'])\n",
    "\n",
    "        for message in consumer:\n",
    "            print (message)\n",
    "\n",
    "\n",
    "def main():\n",
    "    threads = [\n",
    "        Producer(),\n",
    "        Consumer()\n",
    "    ]\n",
    "\n",
    "    for t in threads:\n",
    "        t.start()\n",
    "\n",
    "    time.sleep(20)\n",
    "\n",
    "if __name__ == \"__main__\":\n",
    "    logging.basicConfig(\n",
    "        format='%(asctime)s.%(msecs)s:%(name)s:%(thread)d:%(levelname)s:%(process)d:%(message)s',\n",
    "        level=logging.INFO\n",
    "        )\n",
    "main()"
   ]
  },
  {
   "cell_type": "code",
   "execution_count": null,
   "metadata": {
    "collapsed": false,
    "scrolled": true
   },
   "outputs": [],
   "source": [
    "!python example.py"
   ]
  },
  {
   "cell_type": "code",
   "execution_count": null,
   "metadata": {
    "collapsed": false
   },
   "outputs": [],
   "source": [
    "# Reading from channel history\n",
    "\n",
    "output_example =  open('slackpstone-channel-output.txt', 'w')\n",
    "\n",
    "for channel in channels:\n",
    "    channel_history = sc.api_call(\"channels.history\", channel=channel, count=\"100000\")\n",
    "    for message_dict in channel_history['messages']:\n",
    "        if 'user' in message_dict:\n",
    "            output_example.write('{}\\t{}\\t{}\\n'.format(\n",
    "                message_dict['text'].replace('\\n','').encode('utf-8'),\n",
    "                    message_dict['user'], message_dict['ts']))\n",
    "output_example.close()"
   ]
  },
  {
   "cell_type": "code",
   "execution_count": null,
   "metadata": {
    "collapsed": false
   },
   "outputs": [],
   "source": [
    "# Example output\n",
    "c = 0\n",
    "with open('slackpstone-channel-output.txt', 'r') as f:\n",
    "    for line in f:\n",
    "        if c<10:\n",
    "            print line.strip().split('\\t')\n",
    "            c += 1\n",
    "        else:\n",
    "            break"
   ]
  },
  {
   "cell_type": "code",
   "execution_count": null,
   "metadata": {
    "collapsed": false
   },
   "outputs": [],
   "source": [
    "%%writefile slack_example.py\n",
    "#!/home/kevin/slackpstone/bin/python\n",
    "\n",
    "# Integrating slack api and kafka\n",
    "from slackclient import SlackClient\n",
    "from kafka import KafkaConsumer, KafkaProducer\n",
    "import threading, logging, time\n",
    "\n",
    "producer = KafkaProducer(bootstrap_servers='localhost:9092')\n",
    "c = 0\n",
    "token = 'Your Token'\n",
    "sc = SlackClient(token)\n",
    "channels = [channel_dict['id'] for channel_dict in sc.api_call(\"channels.list\")['channels']]\n",
    "for channel in channels:\n",
    "    channel_history = sc.api_call(\"channels.history\", channel=channel, count=\"100000\")\n",
    "    for message_dict in channel_history['messages']:\n",
    "        if 'user' in message_dict:\n",
    "            message = '{}\\t{}\\t{}\\n'.format(\n",
    "                message_dict['text'].replace('\\n','').encode('utf-8'),\n",
    "                    message_dict['user'], message_dict['ts'])\n",
    "            producer.send(channel, message)\n",
    "            c += 1\n",
    "print 'Sent {} messages'.format(c)"
   ]
  },
  {
   "cell_type": "code",
   "execution_count": null,
   "metadata": {
    "collapsed": false
   },
   "outputs": [],
   "source": [
    "!python slack_example.py"
   ]
  }
 ],
 "metadata": {
  "kernelspec": {
   "display_name": "Python 2",
   "language": "python",
   "name": "python2"
  },
  "language_info": {
   "codemirror_mode": {
    "name": "ipython",
    "version": 2
   },
   "file_extension": ".py",
   "mimetype": "text/x-python",
   "name": "python",
   "nbconvert_exporter": "python",
   "pygments_lexer": "ipython2",
   "version": "2.7.12"
  }
 },
 "nbformat": 4,
 "nbformat_minor": 1
}
