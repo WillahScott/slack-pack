{
 "cells": [
  {
   "cell_type": "code",
   "execution_count": 3,
   "metadata": {
    "collapsed": false,
    "scrolled": true
   },
   "outputs": [
    {
     "name": "stdout",
     "output_type": "stream",
     "text": [
      "[]\n",
      "[{u'type': u'hello'}]\n",
      "[{u'text': u\"I agree that Sunday sounds better. I'm a fan of mid-morning (say 10AM) if that works, but am generally flexible\", u'ts': u'1474508072.000008', u'user': u'U2C9M9GP5', u'reply_to': 929, u'type': u'message', u'channel': u'C2DFNQ5PA'}]\n",
      "[{u'url': u'wss://mpmulti-fo61.slack-msgs.com/websocket/0C4frdCvdkEXrmRSRPGH-2tDHZVtDakP-KmllE4abuwTc646MhdeidOZFsUtq-wK6iPnCWo9RnYxXnqgtlU5f1pb3FUxzh9ZZpnueY7_D3uePUYIPuM9LW_lhUfPjvsO4gofhtogCAcunQCJwIfX1iLOzLzi-HOB1sAnIq96re0=', u'type': u'reconnect_url'}]\n",
      "[{u'type': u'presence_change', u'user': u'U2C9M9GP5', u'presence': u'active'}]\n",
      "[]\n",
      "[{u'type': u'presence_change', u'user': u'U2C5M1L6L', u'presence': u'away'}]\n",
      "[]\n",
      "[]\n",
      "[]\n",
      "[]\n",
      "[]\n",
      "[]\n",
      "[]\n",
      "[]\n",
      "[]\n",
      "[]\n",
      "[]\n",
      "[]\n",
      "[]\n",
      "[]\n",
      "[]\n",
      "[]\n",
      "[]\n",
      "[]\n",
      "[]\n",
      "[]\n",
      "[]\n",
      "[]\n",
      "[]\n",
      "[]\n",
      "[]\n",
      "[]\n",
      "[]\n",
      "[]\n",
      "[]\n",
      "[]\n",
      "[]\n",
      "[]\n",
      "[]\n",
      "[]\n",
      "[]\n",
      "[]\n",
      "[]\n",
      "[]\n"
     ]
    },
    {
     "ename": "KeyboardInterrupt",
     "evalue": "",
     "output_type": "error",
     "traceback": [
      "\u001b[1;31m---------------------------------------------------------------------------\u001b[0m",
      "\u001b[1;31mKeyboardInterrupt\u001b[0m                         Traceback (most recent call last)",
      "\u001b[1;32m<ipython-input-3-72f067e7970b>\u001b[0m in \u001b[0;36m<module>\u001b[1;34m()\u001b[0m\n\u001b[0;32m      8\u001b[0m     \u001b[1;32mwhile\u001b[0m \u001b[0mTrue\u001b[0m\u001b[1;33m:\u001b[0m\u001b[1;33m\u001b[0m\u001b[0m\n\u001b[0;32m      9\u001b[0m         \u001b[1;32mprint\u001b[0m \u001b[0msc\u001b[0m\u001b[1;33m.\u001b[0m\u001b[0mrtm_read\u001b[0m\u001b[1;33m(\u001b[0m\u001b[1;33m)\u001b[0m\u001b[1;33m\u001b[0m\u001b[0m\n\u001b[1;32m---> 10\u001b[1;33m         \u001b[0mtime\u001b[0m\u001b[1;33m.\u001b[0m\u001b[0msleep\u001b[0m\u001b[1;33m(\u001b[0m\u001b[1;36m1\u001b[0m\u001b[1;33m)\u001b[0m\u001b[1;33m\u001b[0m\u001b[0m\n\u001b[0m\u001b[0;32m     11\u001b[0m \u001b[1;32melse\u001b[0m\u001b[1;33m:\u001b[0m\u001b[1;33m\u001b[0m\u001b[0m\n\u001b[0;32m     12\u001b[0m     \u001b[1;32mprint\u001b[0m \u001b[1;34m\"Connection Failed, invalid token?\"\u001b[0m\u001b[1;33m\u001b[0m\u001b[0m\n",
      "\u001b[1;31mKeyboardInterrupt\u001b[0m: "
     ]
    }
   ],
   "source": [
    "#pip install slackclient\n",
    "# echo SLACK_TOKEN='your_slack_token' (https://api.slack.com/docs/oauth-test-tokens)\n",
    "import os\n",
    "import time\n",
    "from slackclient import SlackClient\n",
    "\n",
    "token = os.environ.get('SLACK_TOKEN')\n",
    "sc = SlackClient(token)\n",
    "if sc.rtm_connect():\n",
    "    while True:\n",
    "        print sc.rtm_read()\n",
    "        time.sleep(1)\n",
    "else:\n",
    "    print \"Connection Failed, invalid token?\""
   ]
  }
 ],
 "metadata": {
  "kernelspec": {
   "display_name": "Python 2",
   "language": "python",
   "name": "python2"
  },
  "language_info": {
   "codemirror_mode": {
    "name": "ipython",
    "version": 2
   },
   "file_extension": ".py",
   "mimetype": "text/x-python",
   "name": "python",
   "nbconvert_exporter": "python",
   "pygments_lexer": "ipython2",
   "version": "2.7.6"
  }
 },
 "nbformat": 4,
 "nbformat_minor": 0
}
