{
 "cells": [
  {
   "cell_type": "code",
   "execution_count": 1,
   "metadata": {
    "collapsed": true
   },
   "outputs": [],
   "source": [
    "# Add the path to the slack-pack/code/ folder in order to be able to import nlp module\n",
    "import sys, os\n",
    "\n",
    "NLP_PATH = '/'.join(os.path.abspath('.').split('/')[:-1]) + '/'\n",
    "sys.path.append(NLP_PATH)"
   ]
  },
  {
   "cell_type": "markdown",
   "metadata": {},
   "source": [
    "## Principal Runner Code"
   ]
  },
  {
   "cell_type": "code",
   "execution_count": 2,
   "metadata": {
    "collapsed": false
   },
   "outputs": [],
   "source": [
    "from nlp.text import extractor as xt\n",
    "from nlp.text.window import Window\n",
    "from nlp.models.similarity_calculation import SimilarTopicCalculator\n",
    "from nlp.models.message_classification import MessageClassifier\n",
    "\n",
    "from nlp.geometry.repr import list_corpora, GloVe\n",
    "from nlp.geometry.dist import cosine, jensen_shannon\n",
    "from nlp.grammar.tokenizer import MessageTokenizer\n"
   ]
  },
  {
   "cell_type": "code",
   "execution_count": 2,
   "metadata": {
    "collapsed": false
   },
   "outputs": [],
   "source": [
    "# Initialize the extractor (JSON or Cassandra)\n",
    "casdb = xt.CassandraExtractor(cluster_ips=['54.175.189.47'],\n",
    "                              session_keyspace='test_keyspace',\n",
    "                              table_name='awaybot_messages')"
   ]
  },
  {
   "cell_type": "code",
   "execution_count": 3,
   "metadata": {
    "collapsed": false
   },
   "outputs": [],
   "source": [
    "# Generate message stream\n",
    "message_stream = casdb.get_messages(type_of_query='hour', channel='general')"
   ]
  },
  {
   "cell_type": "code",
   "execution_count": 4,
   "metadata": {
    "collapsed": false
   },
   "outputs": [
    {
     "data": {
      "text/plain": [
       "['glove.6B.300d.txt']"
      ]
     },
     "execution_count": 4,
     "metadata": {},
     "output_type": "execute_result"
    }
   ],
   "source": [
    "list_corpora()"
   ]
  },
  {
   "cell_type": "code",
   "execution_count": 5,
   "metadata": {
    "collapsed": false
   },
   "outputs": [
    {
     "name": "stdout",
     "output_type": "stream",
     "text": [
      "CPU times: user 32 s, sys: 1.17 s, total: 33.2 s\n",
      "Wall time: 33.5 s\n"
     ]
    }
   ],
   "source": [
    "%%time\n",
    "# Initialize the GloVe representation\n",
    "glove_rep = GloVe('glove.6B.300d.txt')"
   ]
  },
  {
   "cell_type": "code",
   "execution_count": 6,
   "metadata": {
    "collapsed": true
   },
   "outputs": [],
   "source": [
    "# Initialize Window on which we'll store the topics\n",
    "topic_window = Window(window_size=10)"
   ]
  },
  {
   "cell_type": "code",
   "execution_count": 7,
   "metadata": {
    "collapsed": true
   },
   "outputs": [],
   "source": [
    "# Initialize the similar topic calculator\n",
    "simtop = SimilarTopicCalculator(representation=glove_rep,\n",
    "                                similarity=cosine,\n",
    "                                tokenizer=MessageTokenizer())\n",
    "\n",
    "# Initialize the message classifier\n",
    "classifier = MessageClassifier(window=topic_window,\n",
    "                               similarity_threshold=0.8,\n",
    "                               similar_topic_calculator=simtop)"
   ]
  },
  {
   "cell_type": "code",
   "execution_count": 8,
   "metadata": {
    "collapsed": false
   },
   "outputs": [
    {
     "name": "stdout",
     "output_type": "stream",
     "text": [
      "  ... Finished classifying 174 messages\n",
      "CPU times: user 1.06 s, sys: 76 ms, total: 1.14 s\n",
      "Wall time: 1.19 s\n"
     ]
    }
   ],
   "source": [
    "%%time\n",
    "# Classify the message as we obtain them from the stream\n",
    "classifier.classify_stream(message_stream=message_stream)"
   ]
  },
  {
   "cell_type": "code",
   "execution_count": null,
   "metadata": {
    "collapsed": true
   },
   "outputs": [],
   "source": []
  },
  {
   "cell_type": "code",
   "execution_count": 11,
   "metadata": {
    "collapsed": false,
    "scrolled": true
   },
   "outputs": [
    {
     "data": {
      "text/plain": [
       "10"
      ]
     },
     "execution_count": 11,
     "metadata": {},
     "output_type": "execute_result"
    }
   ],
   "source": [
    "len(classifier.window.topics)"
   ]
  },
  {
   "cell_type": "code",
   "execution_count": 12,
   "metadata": {
    "collapsed": false
   },
   "outputs": [
    {
     "name": "stdout",
     "output_type": "stream",
     "text": [
      "Topic #0 --> size: 1\n",
      "Topic #1 --> size: 1\n",
      "Topic #2 --> size: 1\n",
      "Topic #3 --> size: 3\n",
      "Topic #4 --> size: 1\n",
      "Topic #5 --> size: 2\n",
      "Topic #6 --> size: 2\n",
      "Topic #7 --> size: 25\n",
      "Topic #8 --> size: 1\n",
      "Topic #9 --> size: 92\n"
     ]
    }
   ],
   "source": [
    "for i, topic in enumerate(classifier.window.topics):\n",
    "    print 'Topic #{} --> size: {}'.format(i, len(topic)) "
   ]
  },
  {
   "cell_type": "code",
   "execution_count": 15,
   "metadata": {
    "collapsed": false
   },
   "outputs": [
    {
     "name": "stdout",
     "output_type": "stream",
     "text": [
      "for navigating through callbacks and the call stack in notebooks `%pdb on` is you best friend. Suuuper helpful, specially when trying to debug `DATA.my_column.apply( WHICHEVER_FUNCTION )`\n",
      "\n",
      "This is the code that connects to kafka, consumes messages and inserts them into cassandra.\n",
      "\n",
      "This is the code that connects to kafka, consumes messages and inserts them into cassandra.\n",
      "\n"
     ]
    }
   ],
   "source": [
    "for msg in classifier.window.topics[3].messages:\n",
    "    print msg.text + '\\n'"
   ]
  },
  {
   "cell_type": "code",
   "execution_count": null,
   "metadata": {
    "collapsed": true
   },
   "outputs": [],
   "source": []
  },
  {
   "cell_type": "code",
   "execution_count": null,
   "metadata": {
    "collapsed": true
   },
   "outputs": [],
   "source": [
    "# Visualize the stream"
   ]
  }
 ],
 "metadata": {
  "anaconda-cloud": {},
  "kernelspec": {
   "display_name": "Python [conda env:nlp]",
   "language": "python",
   "name": "conda-env-nlp-py"
  },
  "language_info": {
   "codemirror_mode": {
    "name": "ipython",
    "version": 2
   },
   "file_extension": ".py",
   "mimetype": "text/x-python",
   "name": "python",
   "nbconvert_exporter": "python",
   "pygments_lexer": "ipython2",
   "version": "2.7.12"
  }
 },
 "nbformat": 4,
 "nbformat_minor": 1
}
