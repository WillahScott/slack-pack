{
 "cells": [
  {
   "cell_type": "markdown",
   "metadata": {},
   "source": [
    "## Adding simple db to store lastest timestamp\n",
    "\n",
    "I evision the following simple db with one domain <br>\n",
    "Domain Name: awaybot <br>\n",
    "For each team, we'll create an item that is the team id (from slack api) <br>\n",
    "For each item, we'll have three attributes <br>\n",
    "1. Team name\n",
    "2. Channel name: the channel that we last read a message from\n",
    "    1. We'll set the replace value to true, as we'll update this for each message\n",
    "3. ts: The timestamp of the last message sent to kafka,\n",
    "    1. We'll set the replace value to true, as we'll update this for each message\n",
    "\n",
    "Whenever we query for the latest timestamp, we'll use `ConsistentRead=True` to ensure we don't get a stale timestamp\n",
    "\n",
    "\n",
    "#### System Reqs\n",
    "\n",
    "1. boto3\n",
    "    1. pip install boto3"
   ]
  },
  {
   "cell_type": "code",
   "execution_count": 23,
   "metadata": {
    "collapsed": false
   },
   "outputs": [],
   "source": [
    "import boto3\n",
    "# Connect to simpleDB\n",
    "client = boto3.client('sdb')\n",
    "# Create a test domain (table in RDMS terms)\n",
    "client.create_domain(\n",
    "    DomainName='test')\n",
    "\n",
    "# Create a test item and put attributes into it\n",
    "# Note that values are always strings\n",
    "test_item_name = 'U3G5603L'\n",
    "item_attrs = [\n",
    "    {'Name': 'Team', 'Value': 'U3G5603L'},\n",
    "    {'Name': 'Channel', 'Value': 'U5LMN360', 'Replace': True},\n",
    "    {'Name': 'ts', 'Value': '174435541.5', 'Replace': True}\n",
    "    ]\n",
    "response = client.put_attributes(\n",
    "    DomainName='test',\n",
    "    ItemName=test_item_name,\n",
    "    Attributes=item_attrs\n",
    ")"
   ]
  },
  {
   "cell_type": "code",
   "execution_count": 24,
   "metadata": {
    "collapsed": false
   },
   "outputs": [
    {
     "data": {
      "text/plain": [
       "[{u'Name': 'Channel', u'Value': 'U5LMN360'},\n",
       " {u'Name': 'ts', u'Value': '174435541.5'}]"
      ]
     },
     "execution_count": 24,
     "metadata": {},
     "output_type": "execute_result"
    }
   ],
   "source": [
    "# Read back the attributes using consistent read, so that we don't get stale reads\n",
    "response = client.get_attributes(\n",
    "    DomainName='test',\n",
    "    ItemName='U3G5603L',\n",
    "    AttributeNames=[\n",
    "        'ts',\n",
    "        'Channel'\n",
    "    ],\n",
    "    ConsistentRead=True\n",
    ")\n",
    "\n",
    "response['Attributes']"
   ]
  },
  {
   "cell_type": "code",
   "execution_count": 25,
   "metadata": {
    "collapsed": true
   },
   "outputs": [],
   "source": [
    "# Delete test domain omain\n",
    "response = client.delete_domain(\n",
    "    DomainName='string'\n",
    ")"
   ]
  },
  {
   "cell_type": "code",
   "execution_count": 1,
   "metadata": {
    "collapsed": true
   },
   "outputs": [],
   "source": [
    "import boto3\n",
    "# Connect to simpleDB\n",
    "client = boto3.client('sdb')"
   ]
  },
  {
   "cell_type": "code",
   "execution_count": 4,
   "metadata": {
    "collapsed": true
   },
   "outputs": [],
   "source": [
    "response = client.get_attributes(\n",
    "    DomainName='awaybot',\n",
    "    ItemName='T2BT8MVE3',\n",
    "    AttributeNames=[\n",
    "        'ts',\n",
    "    ],\n",
    "    ConsistentRead=True\n",
    ")"
   ]
  },
  {
   "cell_type": "code",
   "execution_count": 5,
   "metadata": {
    "collapsed": false
   },
   "outputs": [
    {
     "data": {
      "text/plain": [
       "{u'Attributes': [{u'Name': 'ts', u'Value': '1476652954.000007'}],\n",
       " 'ResponseMetadata': {'BoxUsage': '0.0000093222',\n",
       "  'HTTPHeaders': {'connection': 'keep-alive',\n",
       "   'content-type': 'text/xml',\n",
       "   'date': 'Sun, 16 Oct 2016 21:31:12 GMT',\n",
       "   'server': 'Amazon SimpleDB',\n",
       "   'transfer-encoding': 'chunked'},\n",
       "  'HTTPStatusCode': 200,\n",
       "  'RequestId': '1f1bbf71-e4b9-d423-b576-75063d7b77e7',\n",
       "  'RetryAttempts': 0}}"
      ]
     },
     "execution_count": 5,
     "metadata": {},
     "output_type": "execute_result"
    }
   ],
   "source": [
    "response"
   ]
  },
  {
   "cell_type": "code",
   "execution_count": 9,
   "metadata": {
    "collapsed": false
   },
   "outputs": [
    {
     "name": "stdout",
     "output_type": "stream",
     "text": [
      "2016-10-16 17:22:34\n"
     ]
    }
   ],
   "source": [
    "import datetime\n",
    "print(\n",
    "    datetime.datetime.fromtimestamp(\n",
    "        float(response['Attributes'][0]['Value'])\n",
    "    ).strftime('%Y-%m-%d %H:%M:%S')\n",
    ")"
   ]
  }
 ],
 "metadata": {
  "kernelspec": {
   "display_name": "Python 2",
   "language": "python",
   "name": "python2"
  },
  "language_info": {
   "codemirror_mode": {
    "name": "ipython",
    "version": 2
   },
   "file_extension": ".py",
   "mimetype": "text/x-python",
   "name": "python",
   "nbconvert_exporter": "python",
   "pygments_lexer": "ipython2",
   "version": "2.7.12"
  }
 },
 "nbformat": 4,
 "nbformat_minor": 1
}
