{
 "cells": [
  {
   "cell_type": "markdown",
   "metadata": {},
   "source": [
    "# Opt-in/Opt-out module\n",
    "\n",
    "## Summary\n",
    "The purpose of this code is to provide a framework for awaybot to respect opt-in and opt-out requirements for the users from the different teams/channels that awaybot participates in.\n",
    "\n",
    "## Expected functionality\n",
    "* Opt-out users have their authored messages filtered out of the awaybot pipeline (before entering our kafka queue)\n",
    "* __Current functionality assumes opt-in for all users, but opt-in code exists for flexibility.__\n",
    "\n",
    "## ToDo\n",
    "* Create config file for test teams\n",
    "* Write function for on-the-fly opt-in\n",
    "* Write function for on-the-fly opt-out"
   ]
  },
  {
   "cell_type": "code",
   "execution_count": 1,
   "metadata": {
    "collapsed": false
   },
   "outputs": [
    {
     "name": "stdout",
     "output_type": "stream",
     "text": [
      "Overwriting config.json\n"
     ]
    }
   ],
   "source": [
    "%%writefile config.json\n",
    "{\n",
    "    \"teams\" : {\n",
    "        \"slack-pack\" : {\n",
    "            \"opt-out\" : [\n",
    "                {\"id\" : \"U2C5M1L6L\"}\n",
    "            ]\n",
    "        }\n",
    "    }\n",
    "}"
   ]
  },
  {
   "cell_type": "code",
   "execution_count": 3,
   "metadata": {
    "collapsed": false
   },
   "outputs": [],
   "source": [
    "#######################################\n",
    "#\n",
    "# The below need to be populted for bot\n",
    "# to function\n",
    "#\n",
    "#######################################\n",
    "%env SLACK_BOT_TOKEN=#SLACK_BOT_TOCKEN#"
   ]
  },
  {
   "cell_type": "code",
   "execution_count": 5,
   "metadata": {
    "collapsed": false
   },
   "outputs": [
    {
     "name": "stdout",
     "output_type": "stream",
     "text": [
      "Accessing team: slack-pack\n",
      "Accessing opt-out user_name list: \n",
      "carlos\n"
     ]
    }
   ],
   "source": [
    "import json\n",
    "\n",
    "with open(\"config.json\") as f:\n",
    "    data = json.load(f)\n",
    "    \n",
    "    # loop through the teams where k is the team name\n",
    "    # and v is the dictionary containing opt-out user ids\n",
    "    for k, v in data[\"teams\"].iteritems():\n",
    "        print \"Accessing team: \" + k\n",
    "        print \"Accessing opt-out user_name list: \"\n",
    "        \n",
    "        # loop through the opt-out list, printing out each \n",
    "        # user name\n",
    "        for ou in v[\"opt-out\"]:\n",
    "            print ou[\"user_name\"]"
   ]
  },
  {
   "cell_type": "code",
   "execution_count": 11,
   "metadata": {
    "collapsed": false
   },
   "outputs": [
    {
     "name": "stdout",
     "output_type": "stream",
     "text": [
      "Overwriting errors.py\n"
     ]
    }
   ],
   "source": [
    "%%writefile errors.py\n",
    "\n",
    "class UnauthError(Exception):\n",
    "    \"\"\"\n",
    "    Exception raised for error encountered for invalid slack credentials/token\n",
    "    \n",
    "    Attributes:\n",
    "        message -- explanation of the error\n",
    "    \"\"\"\n",
    "    def __init__(self, value):\n",
    "        self.value = value\n",
    "\n",
    "    def __str__(self):\n",
    "        return repr(self.value)"
   ]
  },
  {
   "cell_type": "code",
   "execution_count": 4,
   "metadata": {
    "collapsed": false
   },
   "outputs": [
    {
     "name": "stdout",
     "output_type": "stream",
     "text": [
      "Writing optfilter.py\n"
     ]
    }
   ],
   "source": [
    "%%writefile optfilter.py\n",
    "import time\n",
    "import os\n",
    "import json\n",
    "import logging\n",
    "from errors import *\n",
    "from slackclient import SlackClient\n",
    "from logging.handlers import RotatingFileHandler\n",
    "\n",
    "# create logger\n",
    "logger = logging.getLogger('opting_logger')\n",
    "logger.setLevel(logging.DEBUG)\n",
    "LOGFILE = \"log/opting\"\n",
    "\n",
    "# create formatter\n",
    "formatter = logging.Formatter('%(asctime)s - %(levelname)s - %(message)s')\n",
    "\n",
    "# create console handler, set level of logging and add formatter\n",
    "ch = logging.StreamHandler()\n",
    "ch.setLevel(logging.DEBUG)\n",
    "ch.setFormatter(formatter)\n",
    "\n",
    "# create file handler, set level of logging and add formatter\n",
    "fh = logging.handlers.TimedRotatingFileHandler(LOGFILE, when='M', interval =1)\n",
    "fh.setLevel(logging.DEBUG)\n",
    "fh.setFormatter(formatter)\n",
    "fh.suffix = '%Y-%m-%d_%H-%M-%S.log'\n",
    "\n",
    "# add handlers to logger\n",
    "logger.addHandler(ch)\n",
    "logger.addHandler(fh)\n",
    "\n",
    "class OptFilter:\n",
    "    \"\"\"\n",
    "    Class for our opting policy implementation\n",
    "    \"\"\"\n",
    "    def __init__(self,\n",
    "                config_path,\n",
    "                team_name,\n",
    "                slack_client_token):\n",
    "        \"\"\"\n",
    "        Constructor for OptFilter\n",
    "        Parameters\n",
    "        ----------\n",
    "        config_path : str\n",
    "            The path to the configuration JSON file for the OptFilter\n",
    "        team_name : str\n",
    "            The name of the team being filtered\n",
    "        slack_client_token : str\n",
    "            Token to access slack client for team team_name\n",
    "        \"\"\"\n",
    "        \n",
    "        # try to open a connection to the Slack API and pull the list of \n",
    "        # team members\n",
    "        try:\n",
    "            logger.info(\"\"\"Initializing opting filter with parameters:\n",
    "            \\tconfig_path : %s\n",
    "            \\tteam_name : %s\n",
    "            \"\"\" % (config_path, team_name))\n",
    "            with open(config_path) as f:\n",
    "                self.config = json.load(f)\n",
    "            self.team_name = team_name\n",
    "            self.slack_client = SlackClient(slack_client_token)\n",
    "            api_call = self.slack_client.api_call(\"users.list\")\n",
    "            if api_call.get('ok'):\n",
    "                logger.info(\"SlackClient successfully connected for OptFilter object.\")\n",
    "                # retrieve all users so we can find our bot\n",
    "                self.team_members = api_call.get('members')\n",
    "        except:\n",
    "                logger.info(\"Uh oh, should probably put more robust error handling here!\")\n",
    "                # quiting if we hit this guy to cut our losses\n",
    "                # note that quit() kills the python kernel...\n",
    "                quit()\n",
    "                \n",
    "    def filtered(self,\n",
    "                 message):\n",
    "        \"\"\"\n",
    "        Function that outputs binary indicator of whether to filter out message\n",
    "        \n",
    "        Parameters:\n",
    "        ----------\n",
    "        message : dict\n",
    "            Dictionary containing Slack message and message metadata\n",
    "        \n",
    "        Returns:\n",
    "        -------\n",
    "        filtered : bool\n",
    "            True if message should be filtered from pipeline, false otherwise\n",
    "        \"\"\"\n",
    "        if \"user\" in message:\n",
    "            for opt_out_team_member in self.config[\"teams\"][self.team_name][\"opt-out\"]:\n",
    "                if message[\"user\"] == opt_out_team_member[\"id\"]:\n",
    "                    logger.debug(\"Message has been flagged for filtering\")\n",
    "                    return True            \n",
    "        else:\n",
    "            logger.debug(\"Message has NOT been flagged for filtering\")\n",
    "            return False\n",
    "        \n",
    "    def opt_out_user(self,\n",
    "                     team,\n",
    "                     user_name):\n",
    "        \"\"\"\n",
    "        Function that introduces a user from a team into the opt-out user group\n",
    "        \n",
    "        Parameters:\n",
    "        ----------\n",
    "        team : str\n",
    "            Name of the team for opting-out user\n",
    "        user_name : str\n",
    "            user_name for the opting out user\n",
    "        Returns:\n",
    "        -------\n",
    "        None\n",
    "        \"\"\"\n",
    "        logger.info(\"THIS FUNCTION AINT WRITTEN YET. THANKS FOR PLAYING\")\n",
    "        \n",
    "    def opt_in_user(self,\n",
    "                    team,\n",
    "                    user_name):\n",
    "        \"\"\"\n",
    "        Function that introduces a user from a team into the opt-in user group\n",
    "        \n",
    "        Parameters:\n",
    "        ----------\n",
    "        team : str\n",
    "            Name of the team for opting-in user\n",
    "        user_name : str\n",
    "            user_name for the opting in user\n",
    "        Returns:\n",
    "        -------\n",
    "        None\n",
    "        \"\"\"\n",
    "        logger.info(\"THIS FUNCTION AINT WRITTEN YET. THANKS FOR PLAYING\")\n",
    "\n",
    "if __name__ == \"__main__\":\n",
    "    try:\n",
    "        f = OptFilter(\"config.json\",\n",
    "                      \"slack-pack\",\n",
    "                      os.environ.get('SLACK_TOKEN'))\n",
    "        print f.config\n",
    "#         token = os.environ.get('SLACK_TOKEN')\n",
    "        token = 'poop'\n",
    "        sc = SlackClient(token)\n",
    "        if sc.rtm_connect():\n",
    "            while True:\n",
    "                temp = sc.rtm_read()\n",
    "                for item in temp:\n",
    "                    if f.filtered(item):\n",
    "                        pass\n",
    "                    else:\n",
    "                        pass\n",
    "                time.sleep(1)\n",
    "        else:\n",
    "            raise UnauthError(\"Credentials/token invalid\")\n",
    "    except UnauthError as e:\n",
    "        print 'UnauthError:', e\n",
    "        quit()"
   ]
  }
 ],
 "metadata": {
  "kernelspec": {
   "display_name": "Python 2",
   "language": "python",
   "name": "python2"
  },
  "language_info": {
   "codemirror_mode": {
    "name": "ipython",
    "version": 2
   },
   "file_extension": ".py",
   "mimetype": "text/x-python",
   "name": "python",
   "nbconvert_exporter": "python",
   "pygments_lexer": "ipython2",
   "version": "2.7.12"
  }
 },
 "nbformat": 4,
 "nbformat_minor": 1
}
