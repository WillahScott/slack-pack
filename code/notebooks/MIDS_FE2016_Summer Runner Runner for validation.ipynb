{
 "cells": [
  {
   "cell_type": "code",
   "execution_count": 1,
   "metadata": {
    "collapsed": false
   },
   "outputs": [],
   "source": [
    "# For our internal toolbox imports\n",
    "import os\n",
    "import sys\n",
    "import logging\n",
    "import pendulum as pd\n",
    "import time\n",
    "path_to_here = os.path.abspath('.')\n",
    "NLP_PATH = path_to_here[:path_to_here.index('slack-pack') + 10] + '/code/'\n",
    "sys.path.append(NLP_PATH)\n",
    "\n",
    "\n",
    "from nlp.text import extractor as xt\n",
    "from nlp.models.message_classification import SimpleClassifier\n",
    "from nlp.utils.model_output_management import OutputHelper\n",
    "from nlp.models.similarity_calculation import MessageSimilarity\n",
    "from nlp.models.summarization import TFIDF as Model\n",
    "from nlp.grammar import tokenizer as nt\n",
    "from nlp.viz.cloud import Wordcloud\n",
    "\n",
    "logger = logging.getLogger('MIDS_FE2016S_log')\n",
    "logger.setLevel(logging.DEBUG)\n",
    "LOGFILE = 'log/MIDS_FE2016S_log'\n",
    "formatter = logging.Formatter('%(asctime)s - %(levelname)s - %(message)s')\n",
    "\n",
    "# create console handler, set level of logging and add formatter\n",
    "ch = logging.StreamHandler()\n",
    "ch.setLevel(logging.DEBUG)\n",
    "ch.setFormatter(formatter)\n",
    "\n",
    "# create file handler, set level of logging and add formatter\n",
    "fh = logging.handlers.TimedRotatingFileHandler(LOGFILE, when='M', interval=1)\n",
    "fh.setLevel(logging.DEBUG)\n",
    "fh.setFormatter(formatter)\n",
    "logger.addHandler(ch)\n",
    "logger.addHandler(fh)\n",
    "\n",
    "casdb = xt.CassandraExtractor(cluster_ips=['54.175.189.47'],\n",
    "                              session_keyspace='test_keyspace',\n",
    "                              table_name='awaybot_messages')"
   ]
  },
  {
   "cell_type": "code",
   "execution_count": 2,
   "metadata": {
    "collapsed": false
   },
   "outputs": [
    {
     "name": "stdout",
     "output_type": "stream",
     "text": [
      "1466462193.0\n",
      "1468881393.0\n",
      "(u'1466463445.000078', u'So we could replace the `mean(mids) + ( qnorm(0.025) * sd(mids) )` line with `mean(mids) + qnorm(0.025, sd = sd(mids))`, or maybe we were intended to compare the two.', u'U17BYEAF2', u'MIDSFE2016S', u'https://midsfe2016s.slack.com/archives/general/p1466463445000078', <Pendulum [2016-06-20T22:57:25.000078+00:00]>)\n",
      "94\n"
     ]
    }
   ],
   "source": [
    "# Set up a query that gets about 100 messages from #general\n",
    "tz = pd.timezone('US/Eastern')\n",
    "week14 = pd.now(tz).subtract(weeks=21).timetuple()\n",
    "week15 = pd.now(tz).subtract(weeks=25).timetuple()\n",
    "week14_ts = time.mktime(week14)\n",
    "week15_ts = time.mktime(week15)\n",
    "\n",
    "print week15_ts\n",
    "print week14_ts\n",
    "\n",
    "mids_fe2016s_filter = (\n",
    "    \"SELECT * FROM fe_s16_messages WHERE\"\n",
    "    \" ts > '{}' AND ts < '{}' \"\n",
    "    \"AND CHANNEL = 'general' ALLOW FILTERING\".format(week15_ts, week14_ts))\n",
    "\n",
    "casdb.add_query(\"mids_fe2016s_filter\", mids_fe2016s_filter)\n",
    "\n",
    "rows = casdb.get_messages(\n",
    "    \"mids_fe2016s_filter\")\n",
    "\n",
    "for row in rows:\n",
    "    print (row.id, row.text, row.author, row.team, row.url, row.timestamp)\n",
    "    break\n",
    "    \n",
    "rows = casdb.get_messages(\n",
    "    \"mids_fe2016s_filter\")\n",
    "c = 0\n",
    "for row in rows:\n",
    "    c += 1\n",
    "print c"
   ]
  },
  {
   "cell_type": "code",
   "execution_count": 5,
   "metadata": {
    "collapsed": false,
    "scrolled": true
   },
   "outputs": [
    {
     "name": "stdout",
     "output_type": "stream",
     "text": [
      " -- Loading GloVe, this might take a few (10~30) seconds... -- \n",
      "\n"
     ]
    },
    {
     "name": "stderr",
     "output_type": "stream",
     "text": [
      "2016-12-12 18:40:03,953 - INFO - topic 0 for general duration 0 hour(s) has length 11\n",
      "2016-12-12 18:40:04,045 - INFO - saved /home/kjydavis/slack-pack/code/nlp/data/img/FE2016S_general_testing_0_1.png\n"
     ]
    },
    {
     "name": "stdout",
     "output_type": "stream",
     "text": [
      "... Done, processed 93 messages\n"
     ]
    },
    {
     "name": "stderr",
     "output_type": "stream",
     "text": [
      "2016-12-12 18:40:04,119 - INFO - topic 1 for general duration 0 hour(s) has length 14\n",
      "2016-12-12 18:40:04,220 - INFO - saved /home/kjydavis/slack-pack/code/nlp/data/img/FE2016S_general_testing_0_2.png\n",
      "2016-12-12 18:40:04,306 - INFO - topic 2 for general duration 0 hour(s) has length 15\n",
      "2016-12-12 18:40:04,404 - INFO - saved /home/kjydavis/slack-pack/code/nlp/data/img/FE2016S_general_testing_0_3.png\n",
      "2016-12-12 18:40:04,486 - INFO - topic 3 for general duration 0 hour(s) has length 10\n",
      "2016-12-12 18:40:04,580 - INFO - saved /home/kjydavis/slack-pack/code/nlp/data/img/FE2016S_general_testing_0_4.png\n",
      "2016-12-12 18:40:04,659 - INFO - topic 4 for general duration 0 hour(s) has length 16\n",
      "2016-12-12 18:40:04,751 - INFO - saved /home/kjydavis/slack-pack/code/nlp/data/img/FE2016S_general_testing_0_5.png\n",
      "2016-12-12 18:40:04,833 - INFO - topic 5 for general duration 0 hour(s) has length 17\n",
      "2016-12-12 18:40:04,933 - INFO - saved /home/kjydavis/slack-pack/code/nlp/data/img/FE2016S_general_testing_0_6.png\n",
      "2016-12-12 18:40:05,018 - INFO - topic 6 for general duration 0 hour(s) has length 11\n",
      "2016-12-12 18:40:05,218 - INFO - saved /home/kjydavis/slack-pack/code/nlp/data/img/FE2016S_general_testing_0_7.png\n"
     ]
    }
   ],
   "source": [
    "# Run the model on that query and save the output vizualizations locally\n",
    "FONT_PATH = NLP_PATH + 'nlp/data/font/Ranga-Regular.ttf'\n",
    "IMG_FOLDER = NLP_PATH + 'nlp/data/img/'\n",
    "msg_sim = MessageSimilarity()\n",
    "msg_stream = casdb.get_messages(\n",
    "    \"mids_fe2016s_filter\")\n",
    "classifier = SimpleClassifier(message_similarity=msg_sim)\n",
    "classified_window = classifier.classify_stream(msg_stream, low_threshold=.4, high_threshold=.7, low_step=.05, high_step=.02, max_messages=10000, verbose=False)\n",
    "image_loader = OutputHelper()\n",
    "\n",
    "uni_model = Model(window=classified_window, cleaner=nt.SimpleCleaner(), n_grams=2)\n",
    "viz_topics = 0\n",
    "for t, topic in enumerate(classified_window):  # one(?) per topic\n",
    "    if len(topic) >= 3:\n",
    "        # Generate the viz out of the model\n",
    "        try:\n",
    "            viz = Wordcloud(model=uni_model, document_id=t, max_words=(10, 5), font=FONT_PATH, multi_plot=True)\n",
    "        except:\n",
    "            logger.warning(\"Failed to generate word cloud for\",exc_info=True)\n",
    "            continue\n",
    "        viz_topics += 1\n",
    "        logger.info('topic {} for {} duration {} hour(s) has length {}'.format(t, 'general', 0, len(topic)))\n",
    "        viz_path = IMG_FOLDER + 'FE2016S_{}_{}_{}_{}.png'.format('general', 'testing', 0, viz_topics)\n",
    "        viz.save_png(viz_path, title='Topic {}'.format(viz_topics))\n",
    "        logger.info('saved {}'.format(viz_path))"
   ]
  }
 ],
 "metadata": {
  "kernelspec": {
   "display_name": "Python 2",
   "language": "python",
   "name": "python2"
  },
  "language_info": {
   "codemirror_mode": {
    "name": "ipython",
    "version": 2
   },
   "file_extension": ".py",
   "mimetype": "text/x-python",
   "name": "python",
   "nbconvert_exporter": "python",
   "pygments_lexer": "ipython2",
   "version": "2.7.12"
  }
 },
 "nbformat": 4,
 "nbformat_minor": 1
}
