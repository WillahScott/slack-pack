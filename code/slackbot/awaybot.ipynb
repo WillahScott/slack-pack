{
 "cells": [
  {
   "cell_type": "markdown",
   "metadata": {},
   "source": [
    "# Awaybot\n",
    "Kevin Davis, Walter Erquinigo, Guillermo Monge, Carlos Rodriguez & Alex Smith"
   ]
  },
  {
   "cell_type": "markdown",
   "metadata": {},
   "source": [
    "***\n",
    "### Resources\n",
    "- <a href=\"https://www.fullstackpython.com/blog/build-first-slack-bot-python.html\">How to Build Your First Slack Bot with Python</a>\n",
    "- <a href=\"https://medium.com/@julianmartinez/how-to-write-a-slack-bot-with-python-code-examples-4ed354407b98#.t8q6p76kj\">How To Write a Slack Bot — with Python Code Examples</a>\n",
    "- <a href=\"http://angus.readthedocs.io/en/2014/amazon/transfer-files-between-instance.html\">Transfer Files Between Your Laptop and an EC2 Instance</a>\n",
    "\n",
    "***\n",
    "Add the file from your local computer to the EC2 instance:<br>\n",
    "```\n",
    "scp -i /Users/Alex/Documents/Berkeley/1603Fall/W210/Architecture/Capstone.pem /Users/Alex/Documents/Berkeley/1603Fall/W210/Slackbot/awaybot.py root@ec2-54-175-51-154.compute-1.amazonaws.com:/usr/lib/\n",
    "```"
   ]
  },
  {
   "cell_type": "markdown",
   "metadata": {},
   "source": [
    "***\n",
    "### Test out the bot to ensure it's working all good"
   ]
  },
  {
   "cell_type": "code",
   "execution_count": 2,
   "metadata": {
    "collapsed": false
   },
   "outputs": [
    {
     "name": "stdout",
     "output_type": "stream",
     "text": [
      "Writing print_bot_id.py\n"
     ]
    }
   ],
   "source": [
    "%%writefile print_bot_id.py\n",
    "import os\n",
    "from slackclient import SlackClient\n",
    "\n",
    "\n",
    "BOT_NAME = 'awaybot_test_aks'\n",
    "\n",
    "slack_client = SlackClient(os.environ.get('SLACK_BOT_TOKEN'))\n",
    "\n",
    "\n",
    "if __name__ == \"__main__\":\n",
    "    api_call = slack_client.api_call(\"users.list\")\n",
    "    if api_call.get('ok'):\n",
    "        # retrieve all users so we can find our bot\n",
    "        users = api_call.get('members')\n",
    "        for user in users:\n",
    "            if 'name' in user and user.get('name') == BOT_NAME:\n",
    "                print(\"Bot ID for '\" + user['name'] + \"' is \" + user.get('id'))\n",
    "    else:\n",
    "        print(\"could not find bot user with the name \" + BOT_NAME)"
   ]
  },
  {
   "cell_type": "code",
   "execution_count": 4,
   "metadata": {
    "collapsed": false
   },
   "outputs": [
    {
     "name": "stdout",
     "output_type": "stream",
     "text": [
      "Bot ID for 'awaybot_test_aks' is U2JFJ5ETU\r\n"
     ]
    }
   ],
   "source": [
    "!python print_bot_id.py"
   ]
  },
  {
   "cell_type": "code",
   "execution_count": 9,
   "metadata": {
    "collapsed": false
   },
   "outputs": [],
   "source": [
    "# set the bot_id as a global environment variable\n",
    "!export BOT_ID='U2JFJ5ETU'"
   ]
  },
  {
   "cell_type": "markdown",
   "metadata": {},
   "source": [
    "### Awaybot code"
   ]
  },
  {
   "cell_type": "code",
   "execution_count": 1,
   "metadata": {
    "collapsed": false
   },
   "outputs": [
    {
     "name": "stdout",
     "output_type": "stream",
     "text": [
      "Overwriting awaybot.py\n"
     ]
    }
   ],
   "source": [
    "%%writefile awaybot.py\n",
    "import os\n",
    "import time\n",
    "from slackclient import SlackClient\n",
    "\n",
    "# awaybot's ID as an environment variable\n",
    "BOT_ID = os.environ.get(\"BOT_ID\")\n",
    "\n",
    "# constants\n",
    "AT_BOT = \"<@\" + 'U2JFJ5ETU' + \">\"\n",
    "COMMAND = \"/summarize\"\n",
    "\n",
    "# instantiate Slack & Twilio clients\n",
    "slack_client = SlackClient(os.environ.get('SLACK_BOT_TOKEN'))\n",
    "\n",
    "def handle_command(command, channel):\n",
    "    \"\"\"\n",
    "        Receives commands directed at the bot and determines if they\n",
    "        are valid commands. If so, then acts on the commands. If not,\n",
    "        returns back what it needs for clarification.\n",
    "    \"\"\"\n",
    "    \n",
    "    # response for when the bot doesn't know quite what to do\n",
    "    response = \"\"\"Not sure what you mean. Use the */summarize* command with the *channel name* and the *duration*. For example, if you want to see 3 weeks of history in the #general channel, type: */summarize #general 3 weeks*\"\"\"\n",
    "        \n",
    "    # if the command is a known command, modify the response to\n",
    "    # the correct response\n",
    "    if command.startswith(COMMAND):\n",
    "        response = \"Sure...write some more code then I can do that!\"\n",
    "    \n",
    "    # post the response to the channel\n",
    "    slack_client.api_call(\"chat.postMessage\", channel=channel,\n",
    "                          text=response, as_user=True)\n",
    "\n",
    "\n",
    "def parse_slack_output(slack_rtm_output):\n",
    "    \"\"\"\n",
    "        The Slack Real Time Messaging API is an events firehose.\n",
    "        this parsing function returns None unless a message is\n",
    "        directed at the Bot, based on its ID.\n",
    "    \"\"\"\n",
    "    \n",
    "    # by default set the output to what was spit out \n",
    "    # by the fire hose\n",
    "    output_list = slack_rtm_output\n",
    "    \n",
    "    # if we actually got something and not just an\n",
    "    # empty array\n",
    "    if output_list and len(output_list) > 0:\n",
    "        \n",
    "        # loop through each of the messages\n",
    "        for output in output_list:\n",
    "            \n",
    "            # if we have some text in the message and \n",
    "            # this bot is mentioned\n",
    "            if output and 'text' in output and AT_BOT in output['text']:\n",
    "                \n",
    "                # return text after the @ mention, whitespace removed\n",
    "                return output['text'].split(AT_BOT)[1].strip().lower(), \\\n",
    "                       output['channel']\n",
    "    return None, None\n",
    "\n",
    "\n",
    "\n",
    "if __name__ == \"__main__\":\n",
    "    \n",
    "    # set a 1 second delay between reading from firehose\n",
    "    READ_WEBSOCKET_DELAY = 1\n",
    "    \n",
    "    # try to connect to the real time messaging API\n",
    "    if slack_client.rtm_connect():\n",
    "        print(\"Awaybot connected and running!\")\n",
    "        \n",
    "        # keep a continuous loop\n",
    "        while True:\n",
    "            \n",
    "            # parse the output from the client using our\n",
    "            # pre-defined parser function\n",
    "            command, channel = parse_slack_output(slack_client.rtm_read())\n",
    "            \n",
    "            # if we have both a command and a channel, then\n",
    "            # use our predefined handle command function\n",
    "            if command and channel:\n",
    "                handle_command(command, channel)\n",
    "                \n",
    "            # sleep for the number of seconds before reading from\n",
    "            # the fire hose again\n",
    "            time.sleep(READ_WEBSOCKET_DELAY)\n",
    "    \n",
    "    # if something went wrong, print out what happened\n",
    "    else:\n",
    "        print(\"Connection failed. Invalid Slack token or bot ID?\")"
   ]
  },
  {
   "cell_type": "code",
   "execution_count": null,
   "metadata": {
    "collapsed": false
   },
   "outputs": [
    {
     "name": "stdout",
     "output_type": "stream",
     "text": [
      "Awaybot connected and running!\r\n"
     ]
    }
   ],
   "source": [
    "# start up the away bot\n",
    "!python awaybot.py"
   ]
  },
  {
   "cell_type": "code",
   "execution_count": null,
   "metadata": {
    "collapsed": true
   },
   "outputs": [],
   "source": []
  }
 ],
 "metadata": {
  "kernelspec": {
   "display_name": "Python 2",
   "language": "python",
   "name": "python2"
  },
  "language_info": {
   "codemirror_mode": {
    "name": "ipython",
    "version": 2
   },
   "file_extension": ".py",
   "mimetype": "text/x-python",
   "name": "python",
   "nbconvert_exporter": "python",
   "pygments_lexer": "ipython2",
   "version": "2.7.12"
  }
 },
 "nbformat": 4,
 "nbformat_minor": 0
}
