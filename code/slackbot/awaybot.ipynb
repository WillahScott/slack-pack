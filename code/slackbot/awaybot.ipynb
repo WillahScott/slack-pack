{
 "cells": [
  {
   "cell_type": "markdown",
   "metadata": {},
   "source": [
    "# Awaybot\n",
    "Kevin Davis, Walter Erquinigo, Guillermo Monge, Carlos Rodriguez & Alex Smith"
   ]
  },
  {
   "cell_type": "markdown",
   "metadata": {},
   "source": [
    "***\n",
    "### Resources\n",
    "- <a href=\"https://www.fullstackpython.com/blog/build-first-slack-bot-python.html\">How to Build Your First Slack Bot with Python</a>\n",
    "- <a href=\"https://medium.com/@julianmartinez/how-to-write-a-slack-bot-with-python-code-examples-4ed354407b98#.t8q6p76kj\">How To Write a Slack Bot — with Python Code Examples</a>\n",
    "- <a href=\"http://angus.readthedocs.io/en/2014/amazon/transfer-files-between-instance.html\">Transfer Files Between Your Laptop and an EC2 Instance</a>\n",
    "\n",
    "***\n",
    "Add the file from your local computer to the EC2 instance:<br>\n",
    "```\n",
    "scp -i /Users/Alex/Documents/Berkeley/1603Fall/W210/Architecture/Capstone.pem /Users/Alex/Documents/Berkeley/1603Fall/W210/Slackbot/awaybot.py root@ec2-54-175-51-154.compute-1.amazonaws.com:/usr/lib/\n",
    "```"
   ]
  },
  {
   "cell_type": "markdown",
   "metadata": {},
   "source": [
    "***\n",
    "### Test out the bot to ensure it's working all good"
   ]
  },
  {
   "cell_type": "code",
   "execution_count": 1,
   "metadata": {
    "collapsed": false
   },
   "outputs": [],
   "source": [
    "#######################################\n",
    "#\n",
    "# The below need to be populted for bot\n",
    "# to function\n",
    "#\n",
    "#######################################\n",
    "%env SLACK_BOT_TOKEN=#SLACK_BOT_TOCKEN#\n",
    "%env BOT_NAME=#SLACK_BOT_NAME#\n",
    "%env IMAGE_URL=https://raw.githubusercontent.com/WillahScott/slack-pack/dev/data/grumpy_cat_2.png"
   ]
  },
  {
   "cell_type": "code",
   "execution_count": 19,
   "metadata": {
    "collapsed": false
   },
   "outputs": [
    {
     "name": "stdout",
     "output_type": "stream",
     "text": [
      "Overwriting print_bot_id.py\n"
     ]
    }
   ],
   "source": [
    "%%writefile print_bot_id.py\n",
    "import os\n",
    "from slackclient import SlackClient\n",
    "\n",
    "\n",
    "BOT_NAME = os.environ.get('BOT_NAME')\n",
    "\n",
    "slack_client = SlackClient(os.environ.get('SLACK_BOT_TOKEN'))\n",
    "\n",
    "if __name__ == \"__main__\":\n",
    "    api_call = slack_client.api_call(\"users.list\")\n",
    "    if api_call.get('ok'):\n",
    "        # retrieve all users so we can find our bot\n",
    "        users = api_call.get('members')\n",
    "        for user in users:\n",
    "            if 'name' in user and user.get('name') == BOT_NAME:\n",
    "                print(\"Bot ID for '\" + user['name'] + \"' is \" + user.get('id'))\n",
    "        print slack_client.api_call(\"channels.list\")\n",
    "    else:\n",
    "        print(\"could not find bot user with the name \" + BOT_NAME)"
   ]
  },
  {
   "cell_type": "code",
   "execution_count": 2,
   "metadata": {
    "collapsed": false
   },
   "outputs": [],
   "source": [
    "!python print_bot_id.py"
   ]
  },
  {
   "cell_type": "code",
   "execution_count": 13,
   "metadata": {
    "collapsed": false
   },
   "outputs": [],
   "source": [
    "# set the bot_id as a global environment variable\n",
    "!export BOT_ID='U2JFJ5ETU'"
   ]
  },
  {
   "cell_type": "markdown",
   "metadata": {},
   "source": [
    "### Create a sample simpleDB with grumpy cat"
   ]
  },
  {
   "cell_type": "code",
   "execution_count": 3,
   "metadata": {
    "collapsed": false
   },
   "outputs": [
    {
     "data": {
      "text/plain": [
       "{'ResponseMetadata': {'BoxUsage': '0.0000219909',\n",
       "  'HTTPHeaders': {'connection': 'keep-alive',\n",
       "   'content-type': 'text/xml',\n",
       "   'date': 'Fri, 11 Nov 2016 15:03:01 GMT',\n",
       "   'server': 'Amazon SimpleDB',\n",
       "   'transfer-encoding': 'chunked',\n",
       "   'vary': 'Accept-Encoding'},\n",
       "  'HTTPStatusCode': 200,\n",
       "  'RequestId': '74e765a9-d8ca-2b8a-c47f-e0da4486f93d',\n",
       "  'RetryAttempts': 0}}"
      ]
     },
     "execution_count": 3,
     "metadata": {},
     "output_type": "execute_result"
    }
   ],
   "source": [
    "import boto3\n",
    "\n",
    "# connect to simpleDB\n",
    "simple_client = boto3.client('sdb')\n",
    "\n",
    "# create a test domain (think of a domain as a table)\n",
    "simple_client.create_domain(DomainName='test')\n",
    "\n",
    "# create a entry in this table, this lone entry\n",
    "# is the link to a grumpy cat picture\n",
    "test_item = 'grumpy'\n",
    "test_attr = [{\"Name\":\"Link\",\n",
    "              \"Value\":'https://raw.githubusercontent.com/WillahScott/slack-pack/dev/data/grumpy_cat_2.png'}]\n",
    "\n",
    "# load the entry into simpleDB\n",
    "simple_client.put_attributes(DomainName='test',\n",
    "                             ItemName=test_item,\n",
    "                             Attributes=test_attr)"
   ]
  },
  {
   "cell_type": "code",
   "execution_count": 25,
   "metadata": {
    "collapsed": false
   },
   "outputs": [
    {
     "name": "stdout",
     "output_type": "stream",
     "text": [
      "{u'Attributes': [{u'Name': 'Link', u'Value': 'https://raw.githubusercontent.com/WillahScott/slack-pack/dev/data/grumpy_cat_2.png'}], 'ResponseMetadata': {'HTTPStatusCode': 200, 'BoxUsage': '0.0000093222', 'RequestId': 'fdc77cd6-b023-f711-7b39-93fbcc6d6170'}}\n",
      "\n",
      "\n",
      "https://raw.githubusercontent.com/WillahScott/slack-pack/dev/data/grumpy_cat_2.png\n"
     ]
    }
   ],
   "source": [
    "# read back grumpy cat from the database\n",
    "grumpy = simple_client.get_attributes(DomainName=\"test\",ItemName=\"grumpy\")\n",
    "\n",
    "# print out the whole record\n",
    "print grumpy\n",
    "print \"\\n\"\n",
    "\n",
    "# print out just the link\n",
    "print grumpy['Attributes'][0]['Value']"
   ]
  },
  {
   "cell_type": "markdown",
   "metadata": {},
   "source": [
    "### Awaybot code"
   ]
  },
  {
   "cell_type": "code",
   "execution_count": 68,
   "metadata": {
    "collapsed": false
   },
   "outputs": [
    {
     "name": "stdout",
     "output_type": "stream",
     "text": [
      "awaybot.ipynb  awaybot.py  exceptions.py  grump.png  log  print_bot_id.py\r\n"
     ]
    }
   ],
   "source": [
    "!ls"
   ]
  },
  {
   "cell_type": "code",
   "execution_count": 1,
   "metadata": {
    "collapsed": false
   },
   "outputs": [
    {
     "name": "stdout",
     "output_type": "stream",
     "text": [
      "Writing awaybot.py\n"
     ]
    }
   ],
   "source": [
    "%%writefile awaybot.py\n",
    "import os\n",
    "import time\n",
    "from slackclient import SlackClient\n",
    "import boto3\n",
    "import logging\n",
    "from logging.handlers import RotatingFileHandler\n",
    "\n",
    "# create logger\n",
    "logger = logging.getLogger('awaybot_logger')\n",
    "logger.setLevel(logging.DEBUG)\n",
    "LOGFILE = \"log/awaybot\"\n",
    "\n",
    "# create formatter\n",
    "formatter = logging.Formatter('%(asctime)s - %(levelname)s - %(message)s')\n",
    "\n",
    "# create console handler, set level of logging and add formatter\n",
    "ch = logging.StreamHandler()\n",
    "ch.setLevel(logging.DEBUG)\n",
    "ch.setFormatter(formatter)\n",
    "\n",
    "# create file handler, set level of logging and add formatter\n",
    "fh = logging.handlers.TimedRotatingFileHandler(LOGFILE, when='M', interval =1)\n",
    "fh.setLevel(logging.DEBUG)\n",
    "fh.setFormatter(formatter)\n",
    "fh.suffix = '%Y-%m-%d_%H-%M-%S.log'\n",
    "\n",
    "# add handlers to logger\n",
    "logger.addHandler(ch)\n",
    "logger.addHandler(fh)\n",
    "\n",
    "class Slackbot:\n",
    "    \"\"\"\n",
    "    A class for our slackbot\n",
    "    \"\"\"\n",
    "    def __init__(self,\n",
    "                 slack_client,\n",
    "                 bot_name,\n",
    "                 command):\n",
    "        \"\"\"\n",
    "        Constructor for Slackbot class\n",
    "        \n",
    "        Parameters\n",
    "        ----------\n",
    "        slack_client : object\n",
    "            The slack client object to interact with a slack team server\n",
    "        bot_name : str\n",
    "            The name (not ID) of the slackbot for the relevant slack team\n",
    "        command : str\n",
    "            The command to invoke the slackbot\n",
    "        \"\"\"\n",
    "        try:\n",
    "            logger.info(\"\"\"Initializing bot with parameters:\n",
    "            \\tslack_client : %s\n",
    "            \\tbot_name : %s\n",
    "            \\tcommand : %s\"\"\" % (slack_client, bot_name, command))\n",
    "            self.slack_client = slack_client\n",
    "            self.command = command\n",
    "            self.bot_name = bot_name\n",
    "            self.sdb_status = False\n",
    "            api_call = self.slack_client.api_call(\"users.list\")\n",
    "            if api_call.get('ok'):\n",
    "                # retrieve all users so we can find our bot\n",
    "                users = api_call.get('members')\n",
    "                # indicator for whether a user has been found matching our bot\n",
    "                user_found = False\n",
    "                for user in users:\n",
    "                    if 'name' in user and user.get('name') == self.bot_name:\n",
    "                        self.bot_id = user.get('id')\n",
    "                        user_found = True\n",
    "                        print(\"Bot ID for '\" + user['name'] + \"' is \" + user.get('id'))\n",
    "                if not user_found:\n",
    "                    raise SlackUserNotFoundError(\"Could not find bot user with the name \" + self.bot_name)\n",
    "        except SlackUserNotFoundError as e:\n",
    "            print 'SlackUserNotFoundError:', e.value\n",
    "            # at this point, quitting if we hit this issue\n",
    "            quit()\n",
    "    \n",
    "    def simpledbConnect(self):\n",
    "        \"\"\"\n",
    "        Function that uses the supplied token to connect to the AWS simpleDB\n",
    "        client. Quits if failure to connect.\n",
    "\n",
    "        Parameters:\n",
    "        -----------\n",
    "        None\n",
    "\n",
    "        Returns: \n",
    "        ----------\n",
    "        None\n",
    "        \"\"\"\n",
    "        try:\n",
    "            self.sdb = boto3.client('sdb')\n",
    "        except:\n",
    "            logger.error(\n",
    "                \"Failed to connect to AWS. Have you configured \"\n",
    "                \"AWS CLI?\", exc_info=True)\n",
    "            sys.exit()\n",
    "        else:\n",
    "            self.sdb_status = True\n",
    "        return\n",
    "\n",
    "    def handle_command(self, team, command, simpleDB_domain):\n",
    "        \"\"\"\n",
    "        Receives commands directed at the bot and determines if they\n",
    "        are valid commands. If so, then acts on the commands. If not,\n",
    "        returns back what it needs for clarification.\n",
    "        \n",
    "        Parameters\n",
    "        ----------\n",
    "        command : dtr\n",
    "            the command passed to the slackbot\n",
    "        payload : str\n",
    "            the location of the payload to be delivered by slackbot \n",
    "        \"\"\"\n",
    "        # split up the command into its component parts\n",
    "        if not self.sdb_status:\n",
    "            self.simpledbConnect()\n",
    "        split_command = command.split()\n",
    "        \n",
    "        # ensure that command sent to bot matches\n",
    "        # and is well formatted\n",
    "        if command.startswith(self.command) and len(split_command) == 4:\n",
    "\n",
    "            # command components\n",
    "            command_channel = split_command[1]\n",
    "            command_duration = split_command[2]\n",
    "            command_duration_units = split_command[3]\n",
    "            channel_name = command_channel.split('|')[-1][:-1]\n",
    "            sdbItem = '{}_{}_{}_{}'.format(\n",
    "                team_name, channel_name,\n",
    "                command_duration, command_duration_units)\n",
    "            logger.info('Fetching number of items for {}'.format(sdbItem))\n",
    "            fetch_num_topics = self.sdb.get_attributes(\n",
    "                DomainName='awaybot', ItemName=sdbItem, ConsistentRead=True)\n",
    "\n",
    "            ## CASE ONE: VALID COMMAND BUT INVALID TIME RANGE\n",
    "            try:\n",
    "                num_topics = fetch_num_topics['Attributes'][0]['Value']\n",
    "            except:\n",
    "                logger.info(\"Could not fetch number of topics from Simple DB for COMMAND '%s'\" % (command))\n",
    "                response = (\"\"\"Not sure what you mean. Use the */summarize* command with the *channel name* and the *duration*. \n",
    "                    For example, if you want to see 3 weeks of history in the #general channel, type: */summarize #general 3 weeks*.\n",
    "                    Valid time values are 1-12 hours, 1-6 days, 1-6 weeks.\"\"\")\n",
    "\n",
    "                # post the response to the channel\n",
    "                self.slack_client.api_call(\"chat.postMessage\",\n",
    "                                           channel=channel,\n",
    "                                           text=response,\n",
    "                                           as_user=True)\n",
    "            else:\n",
    "                logger.info(\"\"\"COMMAND %s has a valid format for processing:\n",
    "                command_channel : %s\n",
    "                command_duration : %s\n",
    "                command_duration_units : %s\"\"\" % (command,\n",
    "                                                  command_channel,\n",
    "                                                  command_duration,\n",
    "                                                  command_duration_units))\n",
    "\n",
    "                ## CASE TWO: VALID COMMAND BUT NOT ENOUGH MESSAGES FOR WORDCLOUD GENERATION\n",
    "                if not int(num_topics):\n",
    "                    response = \"{} has no topics for {} {}\".format(\n",
    "                        command_channel, command_duration, command_duration_units)\n",
    "                    self.slack_client.api_call(\"chat.postMessage\",\n",
    "                                           channel=channel,\n",
    "                                           text=response,\n",
    "                                           as_user=True)\n",
    "                else:\n",
    "                    ## CASE THREE: VALID COMMAND AND WORDCLOUDS WERE GENERATED.\n",
    "                    \n",
    "                    # Respond with the summary and how many topics\n",
    "                    response = \"Your summary for {} for {} {} ({} topics).\".format(\n",
    "                        command_channel, command_duration, command_duration_units, num_topics)\n",
    "\n",
    "                    self.slack_client.api_call(\"chat.postMessage\",\n",
    "                                           channel=channel,\n",
    "                                           text=response,\n",
    "                                           as_user=True)\n",
    "\n",
    "\n",
    "                    # Respond for each topic\n",
    "                    for topic in xrange(1, int(num_topics), 1):\n",
    "                        sdbImageItem = '{}_{}_{}_{}_{}'.format(\n",
    "                            team_name, channel_name,\n",
    "                            command_duration, command_duration_units, topic)\n",
    "\n",
    "                        fetch_image = self.sdb.get_attributes(\n",
    "                            DomainName='awaybot', ItemName=sdbImageItem, ConsistentRead=True)\n",
    "                        topic_url = [i['Value'] for i in fetch_image['Attributes'] if i['Name'] == 'archiveURL'][0]\n",
    "                        topic_wordcloud = [i['Value'] for i in fetch_image['Attributes'] if i['Name'] == 'modelURL'][0]\n",
    "\n",
    "\n",
    "                        response = '<{}|Go To Topic {}>'.format(topic_url, topic)\n",
    "                        # set the attachment which is the duration with the url to the word cloud\n",
    "                        attachment = '[{\"title\": \"Topic '+ str(topic) + '\" , \"image_url\":\"'+ topic_wordcloud +'\"}]'\n",
    "\n",
    "                        # send the response with the image\n",
    "                        logger.info(\"\"\"Sending:\n",
    "                        \\tchannel : %s\n",
    "                        \\ttext : %s\n",
    "                        \\timage_url : %s\"\"\" % (channel, response, attachment))\n",
    "                        self.slack_client.api_call(\"chat.postMessage\", channel=channel, \n",
    "                                              text=response, \n",
    "                                              attachments=attachment,\n",
    "                                              as_user=True)\n",
    "\n",
    "        # otherwise post our response to help the user our\n",
    "        else:\n",
    "            # response for when the bot doesn't know quite what to do\n",
    "            logger.info(\"Incorrectly formatted COMMAND '%s' sent to BOT '%s'\" % (command, self.bot_name))\n",
    "            response = (\"\"\"Not sure what you mean. Use the */summarize* command with the *channel name* and the *duration*. \n",
    "                For example, if you want to see 3 weeks of history in the #general channel, type: */summarize #general 3 weeks*.\n",
    "                Valid time values are 1-12 hours, 1-6 days, 1-6 weeks.\"\"\")\n",
    "\n",
    "            # post the response to the channel\n",
    "            self.slack_client.api_call(\"chat.postMessage\",\n",
    "                                       channel=channel,\n",
    "                                       text=response,\n",
    "                                       as_user=True)\n",
    "            \n",
    "    def parse_messages(self,\n",
    "                       slack_rtm_output):\n",
    "        \"\"\"\n",
    "        The Slack Real Time Messaging API is an events firehose.\n",
    "        this parsing function returns None unless a message is\n",
    "        directed at the Bot, based on its ID.        \n",
    "        Parameters\n",
    "        ----------\n",
    "        slack_rtm_output : list\n",
    "            A list of outputs from the slack RTM API\n",
    "        Returns\n",
    "        -------\n",
    "        str\n",
    "            str slice after @ for identified slack RTM API text message\n",
    "        str\n",
    "            slack team channel ID\n",
    "        \"\"\"\n",
    "        # by default set the output to what was spit out \n",
    "        # by the fire hose\n",
    "        output_list = slack_rtm_output\n",
    "        # if we actually got something and not just an\n",
    "        # empty array\n",
    "        if output_list and len(output_list) > 0:\n",
    "\n",
    "            # loop through each of the messages\n",
    "            for output in output_list:\n",
    "\n",
    "                # if we have some text in the message and \n",
    "                # this bot is mentioned\n",
    "                if output and 'text' in output and self.bot_id in output['text']:\n",
    "\n",
    "                    # return text after the @ mention, whitespace removed\n",
    "                    logger.info(\"BOT '%s' has received MESSAGE '%s'\" % (self.bot_name, output))\n",
    "                    at_bot = \"<@\" + self.bot_id + \">\"\n",
    "                    return output['text'].split(at_bot)[1].strip().lower(), \\\n",
    "                           output['channel']\n",
    "        return None, None\n",
    "\n",
    "class SlackUserNotFoundError(Exception):\n",
    "    \"\"\"\n",
    "    Exception raised for error encountered for inexistent slack user name\n",
    "    \n",
    "    Attributes:\n",
    "        message -- explanation of the error\n",
    "    \"\"\"\n",
    "    def __init__(self, value):\n",
    "        self.value = value\n",
    "\n",
    "    def __str__(self):\n",
    "        return repr(self.value)\n",
    "        \n",
    "class UnauthError(Exception):\n",
    "    \"\"\"\n",
    "    Exception raised for error encountered for invalid slack credentials/token\n",
    "    \n",
    "    Attributes:\n",
    "        message -- explanation of the error\n",
    "    \"\"\"\n",
    "    def __init__(self, value):\n",
    "        self.value = value\n",
    "\n",
    "    def __str__(self):\n",
    "        return repr(self.value)\n",
    "\n",
    "if __name__ == \"__main__\":\n",
    "    \n",
    "    try:\n",
    "        #######################################\n",
    "        # THIS IS PREDEFINED PAYLOAD CODE START\n",
    "        #######################################\n",
    "        \n",
    "        logger.info(\"Stating __main__, simple test for awaybot.py\")\n",
    "        \n",
    "        SDB_DOMAIN = \"awaybot\"\n",
    "        # SDB_ITEM = \"test\"\n",
    "        \n",
    "        # # connect to simpleDB\n",
    "        # logger.info(\"Connecting to simpleDB\")\n",
    "        # simple_client = boto3.client('sdb')\n",
    "\n",
    "        # # pull the relevant simpleDB entry\n",
    "        # logger.info(\"Pulling ITEM '%s' from DOMAIN '%s'\" % (SDB_ITEM, SDB_DOMAIN))\n",
    "        # response = simple_client.get_attributes(DomainName=SDB_DOMAIN,\n",
    "        #                                       ItemName=SDB_ITEM,\n",
    "        #                                       ConsistentRead=True)\n",
    "\n",
    "        # # gather just the link to the word cloud\n",
    "        # word_cloud = [i['Value'] for i in response['Attributes'] if i['Name'] == 'modelURL'][0]\n",
    "        # topic_url = [i['Value'] for i in response['Attributes'] if i['Name'] == 'archiveURL'][0]\n",
    "        # payload = [word_cloud, topic_url]\n",
    "        # logger.info(\"summary wordcloud URL: {}\\ntopic url: {}\".format(word_cloud, topic_url))\n",
    "\n",
    "        #######################################\n",
    "        # THIS IS PREDEFINED PAYLOAD CODE END\n",
    "        #######################################\n",
    "\n",
    "        READ_WEBSOCKET_DELAY = 1\n",
    "        logger.info(\"RTM API read websocket delay set to '%s' seconds\" % (READ_WEBSOCKET_DELAY))\n",
    "\n",
    "        # try to connect to the real time messaging API\n",
    "        sc = SlackClient(os.environ.get('SLACK_BOT_TOKEN'))\n",
    "\n",
    "        bot = Slackbot(sc,\n",
    "                     os.environ.get('SLACK_BOT_NAME'),\n",
    "                     '/summarize')\n",
    "        bot.simpledbConnect()\n",
    "\n",
    "        team_name = sc.api_call('team.info')['team']['name']\n",
    "\n",
    "        if bot.slack_client.rtm_connect():\n",
    "            logger.info(\"starterbot connected and running!\")\n",
    "            # keep a continuous loop\n",
    "            while True:\n",
    "                # parse the output from the client using our\n",
    "                # pre-defined parser function\n",
    "                command, channel = bot.parse_messages(bot.slack_client.rtm_read())\n",
    "\n",
    "                # if we have both a command and a channel, then\n",
    "                # use our predefined handle command function\n",
    "                # NOTE THAT THE PAYLOAD IS PREDEFINED\n",
    "                if command and channel:\n",
    "                    bot.handle_command(team_name, command, SDB_DOMAIN)\n",
    "\n",
    "                # sleep for the number of seconds before reading from\n",
    "                # the fire hose again\n",
    "                time.sleep(READ_WEBSOCKET_DELAY)\n",
    "\n",
    "        # if something went wrong, print out what happened\n",
    "        else:\n",
    "            raise UnauthError(\"Credentials/token invalid\")\n",
    "    except UnauthError as e:\n",
    "        print 'UnauthError:', e\n",
    "        quit()"
   ]
  },
  {
   "cell_type": "code",
   "execution_count": 70,
   "metadata": {
    "collapsed": false
   },
   "outputs": [
    {
     "name": "stdout",
     "output_type": "stream",
     "text": [
      "2016-11-12 21:57:09,128 - INFO - Stating __main__, simple test for awaybot.py\n",
      "2016-11-12 21:57:09,128 - INFO - Connecting to simpleDB\n",
      "2016-11-12 21:57:09,226 - INFO - Pulling ITEM 'grumpy' from DOMAIN 'test'\n",
      "2016-11-12 21:57:09,287 - INFO - summary payload URL: 'https://raw.githubusercontent.com/WillahScott/slack-pack/dev/data/grumpy_cat_2.png'\n",
      "2016-11-12 21:57:09,287 - INFO - RTM API read websocket delay set to '1' seconds\n",
      "2016-11-12 21:57:09,287 - INFO - Initializing bot with parameters:\n",
      "            \tslack_client : <slackclient._client.SlackClient object at 0x7f01ad21f0d0>\n",
      "            \tbot_name : starterbot\n",
      "            \tcommand : /summarize\n",
      "Bot ID for 'starterbot' is U2CN6DVUZ\n",
      "2016-11-12 21:57:09,530 - INFO - starterbot connected and running!\n",
      "^C\n",
      "Traceback (most recent call last):\n",
      "  File \"awaybot.py\", line 264, in <module>\n",
      "    time.sleep(READ_WEBSOCKET_DELAY)\n",
      "KeyboardInterrupt\n"
     ]
    }
   ],
   "source": [
    "# start up the away bot\n",
    "!python awaybot.py"
   ]
  },
  {
   "cell_type": "markdown",
   "metadata": {
    "collapsed": true
   },
   "source": [
    "### Testing the Slackbot with just sending messages"
   ]
  },
  {
   "cell_type": "markdown",
   "metadata": {},
   "source": [
    "#### Choose a channel"
   ]
  },
  {
   "cell_type": "code",
   "execution_count": 54,
   "metadata": {
    "collapsed": false
   },
   "outputs": [
    {
     "name": "stdout",
     "output_type": "stream",
     "text": [
      "C2CNEMD0S\n"
     ]
    }
   ],
   "source": [
    "from slackclient import SlackClient\n",
    "import os\n",
    "\n",
    "# initalize the client\n",
    "slack_client = SlackClient('TOKEN')\n",
    "\n",
    "# get all the channels\n",
    "all_channels = slack_client.api_call(\"channels.list\")['channels']\n",
    "\n",
    "# set the channel of interest\n",
    "channel_interest_name = 'bot-sandbox'\n",
    "channel_interest = None\n",
    "\n",
    "# loop through all the channels, looking for the channel of\n",
    "# interest\n",
    "for channel in all_channels:\n",
    "    if channel['name'] == channel_interest_name:\n",
    "        channel_interest = channel['id']\n",
    "        print channel_interest"
   ]
  },
  {
   "cell_type": "markdown",
   "metadata": {},
   "source": [
    "#### Post a simple message"
   ]
  },
  {
   "cell_type": "code",
   "execution_count": 69,
   "metadata": {
    "collapsed": false
   },
   "outputs": [
    {
     "data": {
      "text/plain": [
       "{u'channel': u'C2CNEMD0S',\n",
       " u'message': {u'bot_id': u'B2JDJJUUB',\n",
       "  u'text': u'Hmmm...',\n",
       "  u'ts': u'1478571838.000066',\n",
       "  u'type': u'message',\n",
       "  u'user': u'U2JFJ5ETU'},\n",
       " u'ok': True,\n",
       " u'ts': u'1478571838.000066'}"
      ]
     },
     "execution_count": 69,
     "metadata": {},
     "output_type": "execute_result"
    }
   ],
   "source": [
    "from slackclient import SlackClient\n",
    "\n",
    "# set the response that we'd like to send to the channel\n",
    "response = \"Hmmm...\"\n",
    "\n",
    "# instantiate Slack client as the slackbot\n",
    "slack_client = SlackClient('TOKEN')\n",
    "\n",
    "# send a text message\n",
    "slack_client.api_call(\"chat.postMessage\", channel='C2CNEMD0S',\n",
    "                      text=response, as_user=True)"
   ]
  },
  {
   "cell_type": "markdown",
   "metadata": {},
   "source": [
    "#### Upload a file"
   ]
  },
  {
   "cell_type": "code",
   "execution_count": 60,
   "metadata": {
    "collapsed": false
   },
   "outputs": [
    {
     "data": {
      "text/plain": [
       "{u'file': {u'channels': [],\n",
       "  u'comments_count': 0,\n",
       "  u'created': 1478570603,\n",
       "  u'display_as_bot': False,\n",
       "  u'edit_link': u'https://slackpack-project.slack.com/files/awaybot_test_aks/F2ZLNC4UD/file/edit',\n",
       "  u'editable': True,\n",
       "  u'external_type': u'',\n",
       "  u'filetype': u'text',\n",
       "  u'groups': [],\n",
       "  u'id': u'F2ZLNC4UD',\n",
       "  u'ims': [],\n",
       "  u'is_external': False,\n",
       "  u'is_public': False,\n",
       "  u'lines': 1,\n",
       "  u'lines_more': 0,\n",
       "  u'mimetype': u'text/plain',\n",
       "  u'mode': u'snippet',\n",
       "  u'name': u'file',\n",
       "  u'permalink': u'https://slackpack-project.slack.com/files/awaybot_test_aks/F2ZLNC4UD/file',\n",
       "  u'permalink_public': u'https://slack-files.com/T2BT8MVE3-F2ZLNC4UD-293b7f70aa',\n",
       "  u'pretty_type': u'Plain Text',\n",
       "  u'preview': u'/Users/Alex/Documents/Berkeley/1603Fall/W210/Slackbot/grumpy_cat_2.png',\n",
       "  u'preview_highlight': u'<div class=\"CodeMirror cm-s-default CodeMirrorServer\" oncopy=\"if(event.clipboardData){event.clipboardData.setData(\\'text/plain\\',window.getSelection().toString().replace(/\\\\u200b/g,\\'\\'));event.preventDefault();event.stopPropagation();}\">\\n<div class=\"CodeMirror-code\">\\n<div><pre>/Users/Alex/Documents/Berkeley/1603Fall/W210/Slackbot/grumpy_cat_2.png</pre></div>\\n</div>\\n</div>\\n',\n",
       "  u'preview_is_truncated': False,\n",
       "  u'public_url_shared': False,\n",
       "  u'size': 70,\n",
       "  u'timestamp': 1478570603,\n",
       "  u'title': u'grumpy_cat_2.png',\n",
       "  u'url_private': u'https://files.slack.com/files-pri/T2BT8MVE3-F2ZLNC4UD/file',\n",
       "  u'url_private_download': u'https://files.slack.com/files-pri/T2BT8MVE3-F2ZLNC4UD/download/file',\n",
       "  u'user': u'U2JFJ5ETU',\n",
       "  u'username': u''},\n",
       " u'ok': True}"
      ]
     },
     "execution_count": 60,
     "metadata": {},
     "output_type": "execute_result"
    }
   ],
   "source": [
    "from slackclient import SlackClient\n",
    "\n",
    "# set the response that we'd like to send to the channel\n",
    "response = \"/Users/Alex/Documents/Berkeley/1603Fall/W210/Slackbot/grumpy_cat_2.png\"\n",
    "\n",
    "# instantiate Slack client as the slackbot\n",
    "slack_client = SlackClient('TOKEN')\n",
    "\n",
    "# upload a picture as a message\n",
    "slack_client.api_call(\"files.upload\", channel='C2CNEMD0S',\n",
    "                          file=response, title=\"grumpy_cat_2.png\",filetype='image')"
   ]
  },
  {
   "cell_type": "code",
   "execution_count": null,
   "metadata": {
    "collapsed": true
   },
   "outputs": [],
   "source": []
  }
 ],
 "metadata": {
  "kernelspec": {
   "display_name": "Python 2",
   "language": "python",
   "name": "python2"
  },
  "language_info": {
   "codemirror_mode": {
    "name": "ipython",
    "version": 2
   },
   "file_extension": ".py",
   "mimetype": "text/x-python",
   "name": "python",
   "nbconvert_exporter": "python",
   "pygments_lexer": "ipython2",
   "version": "2.7.12"
  }
 },
 "nbformat": 4,
 "nbformat_minor": 0
}
