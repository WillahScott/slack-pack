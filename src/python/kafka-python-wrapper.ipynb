{
 "cells": [
  {
   "cell_type": "code",
   "execution_count": 60,
   "metadata": {
    "collapsed": false
   },
   "outputs": [
    {
     "name": "stdout",
     "output_type": "stream",
     "text": [
      "Overwriting config.json\n"
     ]
    }
   ],
   "source": [
    "%%writefile config.json\n",
    "\n",
    "{\n",
    "    \"slack\" : {\n",
    "        \n",
    "    },\n",
    "    \"kafka\" : {\n",
    "        \"producer\" : {\n",
    "            \"bootstrap_servers_host\" : \"localhost\",\n",
    "            \"bootstrap_servers_port\" : \"9092\"\n",
    "        },\n",
    "        \"consumer\" : {\n",
    "            \"bootstrap_servers_host\" : \"localhost\",\n",
    "            \"bootstrap_servers_port\" : \"9092\",\n",
    "            \"auto_offset_reset\" : \"earliest\"\n",
    "        }\n",
    "    },\n",
    "    \"flask\" : {\n",
    "        \n",
    "    }\n",
    "}"
   ]
  },
  {
   "cell_type": "code",
   "execution_count": 67,
   "metadata": {
    "collapsed": false
   },
   "outputs": [
    {
     "name": "stdout",
     "output_type": "stream",
     "text": [
      "Overwriting slack-producer.py\n"
     ]
    }
   ],
   "source": [
    "%%writefile slack-producer.py\n",
    "#!/usr/bin/env python\n",
    "import threading\n",
    "import json\n",
    "import logging\n",
    "from kafka import KakfaConsumer, KafkaProducer\n",
    "\n",
    "logging.basicConfig(level=logging.DEBUG,\n",
    "                    format='(%(threadName)-9s) %(message)s')\n",
    "\n",
    "class Producer(threading.Thread):\n",
    "    'This is our slack producer'\n",
    "    def __init__(self, config=None):\n",
    "        'init function that launches a producer with a config'\n",
    "        super(Producer, self).__init__()\n",
    "        if not config:\n",
    "            logging.warn(\"NO KAFKA CONFIG PASSED IN TO PRODUCER\")\n",
    "        else:\n",
    "            logging.info(\"KAFKA CONFIG PASSED UPON PRODUCER INIT: \" + json.dumps(config))\n",
    "            for k, v in config.iteritems():\n",
    "                logging.debug(str(k)+\" :\\t\"+str(v))\n",
    "            self.config = config\n",
    "            self.bootstrap_servers_host = config['bootstrap_servers_host']\n",
    "            self.bootstrap_servers_port = config['bootstrap_servers_port']\n",
    "            self.producer = KafkaProducer(bootstrap_servers=self.bootstrap_servers_host+self.bootstrap_servers_port)\n",
    "            \n",
    "    def send(self):\n",
    "        'send message'\n",
    "        \n",
    "class Consumer(threading.Thread):\n",
    "    'This is our slack producer'\n",
    "    def __init__(self, config=None):\n",
    "        'init function that launches a consumer with a config'\n",
    "        super(Consumer, self).__init__()\n",
    "        if not config:\n",
    "            logging.warn(\"NO KAFKA CONFIG PASSED IN TO CONSUMER\")\n",
    "        else:\n",
    "            logging.info(\"KAFKA CONFIG PASSED UPON CONSUMER INIT: \" + json.dumps(config))\n",
    "            for k, v in config.iteritems():\n",
    "                logging.debug(str(k)+\" :\\t\"+str(v))\n",
    "            self.config = config\n",
    "\n",
    "    def subscribe(self):\n",
    "        'subscribe to topic'\n",
    "\n",
    "if __name__ == \"__main__\":\n",
    "    print \"Sup broski?!\"\n",
    "    with open('config.json') as data_file:    \n",
    "        data = json.load(data_file)\n",
    "    kafka_config = data['kafka']\n",
    "    kafka_consumer_config = kafka_config['consumer']\n",
    "    kafka_producer_config = kafka_config['producer']\n",
    "    p1 = Producer(kafka_producer_config)\n",
    "    p2 = Producer()"
   ]
  },
  {
   "cell_type": "code",
   "execution_count": 68,
   "metadata": {
    "collapsed": true
   },
   "outputs": [],
   "source": [
    "!chmod a+x slack-producer.py"
   ]
  },
  {
   "cell_type": "code",
   "execution_count": 70,
   "metadata": {
    "collapsed": false
   },
   "outputs": [],
   "source": [
    "!./slack-producer.py"
   ]
  },
  {
   "cell_type": "code",
   "execution_count": 20,
   "metadata": {
    "collapsed": false
   },
   "outputs": [
    {
     "name": "stderr",
     "output_type": "stream",
     "text": [
      "(MainThread) KAFKA CONFIG PASSED: {\"flask\": {}, \"slack\": {}, \"kafka\": {\"bootstrap_servers\": {\"host\": \"localhost\", \"port\": 9092}, \"consumer\": {}, \"producer\": {}}}\n"
     ]
    },
    {
     "name": "stdout",
     "output_type": "stream",
     "text": [
      "{u'flask': {},\n",
      " u'kafka': {u'bootstrap_servers': {u'host': u'localhost', u'port': 9092},\n",
      "            u'consumer': {},\n",
      "            u'producer': {}},\n",
      " u'slack': {}}\n"
     ]
    }
   ],
   "source": [
    "import json\n",
    "import logging\n",
    "from pprint import pprint, pformat\n",
    "\n",
    "logging.basicConfig(level=logging.DEBUG,\n",
    "                    format='(%(threadName)-9s) %(message)s',)\n",
    "\n",
    "with open('config.json') as data_file:    \n",
    "    data = json.load(data_file)\n",
    "\n",
    "logging.debug(\"KAFKA CONFIG PASSED: \" + json.dumps(data))\n",
    "pprint(data)"
   ]
  }
 ],
 "metadata": {
  "kernelspec": {
   "display_name": "Python 2",
   "language": "python",
   "name": "python2"
  },
  "language_info": {
   "codemirror_mode": {
    "name": "ipython",
    "version": 2
   },
   "file_extension": ".py",
   "mimetype": "text/x-python",
   "name": "python",
   "nbconvert_exporter": "python",
   "pygments_lexer": "ipython2",
   "version": "2.7.6"
  }
 },
 "nbformat": 4,
 "nbformat_minor": 1
}
